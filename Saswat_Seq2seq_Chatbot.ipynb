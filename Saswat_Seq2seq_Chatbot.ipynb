{
  "nbformat": 4,
  "nbformat_minor": 0,
  "metadata": {
    "colab": {
      "name": "Saswat_Seq2seq_Chatbot.ipynb",
      "provenance": []
    },
    "kernelspec": {
      "name": "python3",
      "display_name": "Python 3"
    },
    "language_info": {
      "name": "python"
    },
    "accelerator": "TPU",
    "widgets": {
      "application/vnd.jupyter.widget-state+json": {
        "f11fc911811b4b5ea045f5fdb28e9f10": {
          "model_module": "@jupyter-widgets/controls",
          "model_name": "HBoxModel",
          "model_module_version": "1.5.0",
          "state": {
            "_view_name": "HBoxView",
            "_dom_classes": [],
            "_model_name": "HBoxModel",
            "_view_module": "@jupyter-widgets/controls",
            "_model_module_version": "1.5.0",
            "_view_count": null,
            "_view_module_version": "1.5.0",
            "box_style": "",
            "layout": "IPY_MODEL_78bf20d156d34ae799103bf106eef3f8",
            "_model_module": "@jupyter-widgets/controls",
            "children": [
              "IPY_MODEL_03740d898f0c4263a1625b17a278d3c7",
              "IPY_MODEL_b15a29db26f64e13ba3aa24a37ec1928",
              "IPY_MODEL_f7500fd69ac9496c8f1609485a835547"
            ]
          }
        },
        "78bf20d156d34ae799103bf106eef3f8": {
          "model_module": "@jupyter-widgets/base",
          "model_name": "LayoutModel",
          "model_module_version": "1.2.0",
          "state": {
            "_view_name": "LayoutView",
            "grid_template_rows": null,
            "right": null,
            "justify_content": null,
            "_view_module": "@jupyter-widgets/base",
            "overflow": null,
            "_model_module_version": "1.2.0",
            "_view_count": null,
            "flex_flow": null,
            "width": null,
            "min_width": null,
            "border": null,
            "align_items": null,
            "bottom": null,
            "_model_module": "@jupyter-widgets/base",
            "top": null,
            "grid_column": null,
            "overflow_y": null,
            "overflow_x": null,
            "grid_auto_flow": null,
            "grid_area": null,
            "grid_template_columns": null,
            "flex": null,
            "_model_name": "LayoutModel",
            "justify_items": null,
            "grid_row": null,
            "max_height": null,
            "align_content": null,
            "visibility": null,
            "align_self": null,
            "height": null,
            "min_height": null,
            "padding": null,
            "grid_auto_rows": null,
            "grid_gap": null,
            "max_width": null,
            "order": null,
            "_view_module_version": "1.2.0",
            "grid_template_areas": null,
            "object_position": null,
            "object_fit": null,
            "grid_auto_columns": null,
            "margin": null,
            "display": null,
            "left": null
          }
        },
        "03740d898f0c4263a1625b17a278d3c7": {
          "model_module": "@jupyter-widgets/controls",
          "model_name": "HTMLModel",
          "model_module_version": "1.5.0",
          "state": {
            "_view_name": "HTMLView",
            "style": "IPY_MODEL_b295dcf6215941bebc47244e5ea56211",
            "_dom_classes": [],
            "description": "",
            "_model_name": "HTMLModel",
            "placeholder": "​",
            "_view_module": "@jupyter-widgets/controls",
            "_model_module_version": "1.5.0",
            "value": "",
            "_view_count": null,
            "_view_module_version": "1.5.0",
            "description_tooltip": null,
            "_model_module": "@jupyter-widgets/controls",
            "layout": "IPY_MODEL_7d719fd192c74bf08f24d0fc8e517bfe"
          }
        },
        "b15a29db26f64e13ba3aa24a37ec1928": {
          "model_module": "@jupyter-widgets/controls",
          "model_name": "FloatProgressModel",
          "model_module_version": "1.5.0",
          "state": {
            "_view_name": "ProgressView",
            "style": "IPY_MODEL_f847937d184141968a8ecee17daba812",
            "_dom_classes": [],
            "description": "",
            "_model_name": "FloatProgressModel",
            "bar_style": "success",
            "max": 1,
            "_view_module": "@jupyter-widgets/controls",
            "_model_module_version": "1.5.0",
            "value": 0,
            "_view_count": null,
            "_view_module_version": "1.5.0",
            "orientation": "horizontal",
            "min": 0,
            "description_tooltip": null,
            "_model_module": "@jupyter-widgets/controls",
            "layout": "IPY_MODEL_e21d87e0813643299571daba44f1938b"
          }
        },
        "f7500fd69ac9496c8f1609485a835547": {
          "model_module": "@jupyter-widgets/controls",
          "model_name": "HTMLModel",
          "model_module_version": "1.5.0",
          "state": {
            "_view_name": "HTMLView",
            "style": "IPY_MODEL_6acb0c5a1f944431b453787fda8c0835",
            "_dom_classes": [],
            "description": "",
            "_model_name": "HTMLModel",
            "placeholder": "​",
            "_view_module": "@jupyter-widgets/controls",
            "_model_module_version": "1.5.0",
            "value": " 0/? [00:00&lt;?, ?it/s]",
            "_view_count": null,
            "_view_module_version": "1.5.0",
            "description_tooltip": null,
            "_model_module": "@jupyter-widgets/controls",
            "layout": "IPY_MODEL_9c7acc21002640db863b54e03d162395"
          }
        },
        "b295dcf6215941bebc47244e5ea56211": {
          "model_module": "@jupyter-widgets/controls",
          "model_name": "DescriptionStyleModel",
          "model_module_version": "1.5.0",
          "state": {
            "_view_name": "StyleView",
            "_model_name": "DescriptionStyleModel",
            "description_width": "",
            "_view_module": "@jupyter-widgets/base",
            "_model_module_version": "1.5.0",
            "_view_count": null,
            "_view_module_version": "1.2.0",
            "_model_module": "@jupyter-widgets/controls"
          }
        },
        "7d719fd192c74bf08f24d0fc8e517bfe": {
          "model_module": "@jupyter-widgets/base",
          "model_name": "LayoutModel",
          "model_module_version": "1.2.0",
          "state": {
            "_view_name": "LayoutView",
            "grid_template_rows": null,
            "right": null,
            "justify_content": null,
            "_view_module": "@jupyter-widgets/base",
            "overflow": null,
            "_model_module_version": "1.2.0",
            "_view_count": null,
            "flex_flow": null,
            "width": null,
            "min_width": null,
            "border": null,
            "align_items": null,
            "bottom": null,
            "_model_module": "@jupyter-widgets/base",
            "top": null,
            "grid_column": null,
            "overflow_y": null,
            "overflow_x": null,
            "grid_auto_flow": null,
            "grid_area": null,
            "grid_template_columns": null,
            "flex": null,
            "_model_name": "LayoutModel",
            "justify_items": null,
            "grid_row": null,
            "max_height": null,
            "align_content": null,
            "visibility": null,
            "align_self": null,
            "height": null,
            "min_height": null,
            "padding": null,
            "grid_auto_rows": null,
            "grid_gap": null,
            "max_width": null,
            "order": null,
            "_view_module_version": "1.2.0",
            "grid_template_areas": null,
            "object_position": null,
            "object_fit": null,
            "grid_auto_columns": null,
            "margin": null,
            "display": null,
            "left": null
          }
        },
        "f847937d184141968a8ecee17daba812": {
          "model_module": "@jupyter-widgets/controls",
          "model_name": "ProgressStyleModel",
          "model_module_version": "1.5.0",
          "state": {
            "_view_name": "StyleView",
            "_model_name": "ProgressStyleModel",
            "description_width": "",
            "_view_module": "@jupyter-widgets/base",
            "_model_module_version": "1.5.0",
            "_view_count": null,
            "_view_module_version": "1.2.0",
            "bar_color": null,
            "_model_module": "@jupyter-widgets/controls"
          }
        },
        "e21d87e0813643299571daba44f1938b": {
          "model_module": "@jupyter-widgets/base",
          "model_name": "LayoutModel",
          "model_module_version": "1.2.0",
          "state": {
            "_view_name": "LayoutView",
            "grid_template_rows": null,
            "right": null,
            "justify_content": null,
            "_view_module": "@jupyter-widgets/base",
            "overflow": null,
            "_model_module_version": "1.2.0",
            "_view_count": null,
            "flex_flow": null,
            "width": "20px",
            "min_width": null,
            "border": null,
            "align_items": null,
            "bottom": null,
            "_model_module": "@jupyter-widgets/base",
            "top": null,
            "grid_column": null,
            "overflow_y": null,
            "overflow_x": null,
            "grid_auto_flow": null,
            "grid_area": null,
            "grid_template_columns": null,
            "flex": null,
            "_model_name": "LayoutModel",
            "justify_items": null,
            "grid_row": null,
            "max_height": null,
            "align_content": null,
            "visibility": null,
            "align_self": null,
            "height": null,
            "min_height": null,
            "padding": null,
            "grid_auto_rows": null,
            "grid_gap": null,
            "max_width": null,
            "order": null,
            "_view_module_version": "1.2.0",
            "grid_template_areas": null,
            "object_position": null,
            "object_fit": null,
            "grid_auto_columns": null,
            "margin": null,
            "display": null,
            "left": null
          }
        },
        "6acb0c5a1f944431b453787fda8c0835": {
          "model_module": "@jupyter-widgets/controls",
          "model_name": "DescriptionStyleModel",
          "model_module_version": "1.5.0",
          "state": {
            "_view_name": "StyleView",
            "_model_name": "DescriptionStyleModel",
            "description_width": "",
            "_view_module": "@jupyter-widgets/base",
            "_model_module_version": "1.5.0",
            "_view_count": null,
            "_view_module_version": "1.2.0",
            "_model_module": "@jupyter-widgets/controls"
          }
        },
        "9c7acc21002640db863b54e03d162395": {
          "model_module": "@jupyter-widgets/base",
          "model_name": "LayoutModel",
          "model_module_version": "1.2.0",
          "state": {
            "_view_name": "LayoutView",
            "grid_template_rows": null,
            "right": null,
            "justify_content": null,
            "_view_module": "@jupyter-widgets/base",
            "overflow": null,
            "_model_module_version": "1.2.0",
            "_view_count": null,
            "flex_flow": null,
            "width": null,
            "min_width": null,
            "border": null,
            "align_items": null,
            "bottom": null,
            "_model_module": "@jupyter-widgets/base",
            "top": null,
            "grid_column": null,
            "overflow_y": null,
            "overflow_x": null,
            "grid_auto_flow": null,
            "grid_area": null,
            "grid_template_columns": null,
            "flex": null,
            "_model_name": "LayoutModel",
            "justify_items": null,
            "grid_row": null,
            "max_height": null,
            "align_content": null,
            "visibility": null,
            "align_self": null,
            "height": null,
            "min_height": null,
            "padding": null,
            "grid_auto_rows": null,
            "grid_gap": null,
            "max_width": null,
            "order": null,
            "_view_module_version": "1.2.0",
            "grid_template_areas": null,
            "object_position": null,
            "object_fit": null,
            "grid_auto_columns": null,
            "margin": null,
            "display": null,
            "left": null
          }
        },
        "be23fc42092c496a92dcac1ed4e9656d": {
          "model_module": "@jupyter-widgets/controls",
          "model_name": "HBoxModel",
          "model_module_version": "1.5.0",
          "state": {
            "_view_name": "HBoxView",
            "_dom_classes": [],
            "_model_name": "HBoxModel",
            "_view_module": "@jupyter-widgets/controls",
            "_model_module_version": "1.5.0",
            "_view_count": null,
            "_view_module_version": "1.5.0",
            "box_style": "",
            "layout": "IPY_MODEL_343309e703ef4def95f1076cc896d702",
            "_model_module": "@jupyter-widgets/controls",
            "children": [
              "IPY_MODEL_d52a210efd2f47aba96254679344b6cb",
              "IPY_MODEL_08d946aaf3184f32ab7d1917eb4d7810",
              "IPY_MODEL_f7b47b4e9c0f4fb3beaad1eec5be31a2"
            ]
          }
        },
        "343309e703ef4def95f1076cc896d702": {
          "model_module": "@jupyter-widgets/base",
          "model_name": "LayoutModel",
          "model_module_version": "1.2.0",
          "state": {
            "_view_name": "LayoutView",
            "grid_template_rows": null,
            "right": null,
            "justify_content": null,
            "_view_module": "@jupyter-widgets/base",
            "overflow": null,
            "_model_module_version": "1.2.0",
            "_view_count": null,
            "flex_flow": null,
            "width": null,
            "min_width": null,
            "border": null,
            "align_items": null,
            "bottom": null,
            "_model_module": "@jupyter-widgets/base",
            "top": null,
            "grid_column": null,
            "overflow_y": null,
            "overflow_x": null,
            "grid_auto_flow": null,
            "grid_area": null,
            "grid_template_columns": null,
            "flex": null,
            "_model_name": "LayoutModel",
            "justify_items": null,
            "grid_row": null,
            "max_height": null,
            "align_content": null,
            "visibility": null,
            "align_self": null,
            "height": null,
            "min_height": null,
            "padding": null,
            "grid_auto_rows": null,
            "grid_gap": null,
            "max_width": null,
            "order": null,
            "_view_module_version": "1.2.0",
            "grid_template_areas": null,
            "object_position": null,
            "object_fit": null,
            "grid_auto_columns": null,
            "margin": null,
            "display": null,
            "left": null
          }
        },
        "d52a210efd2f47aba96254679344b6cb": {
          "model_module": "@jupyter-widgets/controls",
          "model_name": "HTMLModel",
          "model_module_version": "1.5.0",
          "state": {
            "_view_name": "HTMLView",
            "style": "IPY_MODEL_1697c5c8cb9d464686e2cdab515eb53e",
            "_dom_classes": [],
            "description": "",
            "_model_name": "HTMLModel",
            "placeholder": "​",
            "_view_module": "@jupyter-widgets/controls",
            "_model_module_version": "1.5.0",
            "value": "100%",
            "_view_count": null,
            "_view_module_version": "1.5.0",
            "description_tooltip": null,
            "_model_module": "@jupyter-widgets/controls",
            "layout": "IPY_MODEL_2dd9593c291247ae9277ff7f7e1fe048"
          }
        },
        "08d946aaf3184f32ab7d1917eb4d7810": {
          "model_module": "@jupyter-widgets/controls",
          "model_name": "FloatProgressModel",
          "model_module_version": "1.5.0",
          "state": {
            "_view_name": "ProgressView",
            "style": "IPY_MODEL_7783b98827404a18b6c98fb022558d8a",
            "_dom_classes": [],
            "description": "",
            "_model_name": "FloatProgressModel",
            "bar_style": "success",
            "max": 26940,
            "_view_module": "@jupyter-widgets/controls",
            "_model_module_version": "1.5.0",
            "value": 26940,
            "_view_count": null,
            "_view_module_version": "1.5.0",
            "orientation": "horizontal",
            "min": 0,
            "description_tooltip": null,
            "_model_module": "@jupyter-widgets/controls",
            "layout": "IPY_MODEL_6e32c0a385dc4a04a0d2b06badc4ed08"
          }
        },
        "f7b47b4e9c0f4fb3beaad1eec5be31a2": {
          "model_module": "@jupyter-widgets/controls",
          "model_name": "HTMLModel",
          "model_module_version": "1.5.0",
          "state": {
            "_view_name": "HTMLView",
            "style": "IPY_MODEL_3c1aebf5d2c74c79b57a16cc0e5be48b",
            "_dom_classes": [],
            "description": "",
            "_model_name": "HTMLModel",
            "placeholder": "​",
            "_view_module": "@jupyter-widgets/controls",
            "_model_module_version": "1.5.0",
            "value": " 26940/26940 [00:00&lt;00:00, 60005.85it/s]",
            "_view_count": null,
            "_view_module_version": "1.5.0",
            "description_tooltip": null,
            "_model_module": "@jupyter-widgets/controls",
            "layout": "IPY_MODEL_a136050956eb4a4480fb862e8df34b92"
          }
        },
        "1697c5c8cb9d464686e2cdab515eb53e": {
          "model_module": "@jupyter-widgets/controls",
          "model_name": "DescriptionStyleModel",
          "model_module_version": "1.5.0",
          "state": {
            "_view_name": "StyleView",
            "_model_name": "DescriptionStyleModel",
            "description_width": "",
            "_view_module": "@jupyter-widgets/base",
            "_model_module_version": "1.5.0",
            "_view_count": null,
            "_view_module_version": "1.2.0",
            "_model_module": "@jupyter-widgets/controls"
          }
        },
        "2dd9593c291247ae9277ff7f7e1fe048": {
          "model_module": "@jupyter-widgets/base",
          "model_name": "LayoutModel",
          "model_module_version": "1.2.0",
          "state": {
            "_view_name": "LayoutView",
            "grid_template_rows": null,
            "right": null,
            "justify_content": null,
            "_view_module": "@jupyter-widgets/base",
            "overflow": null,
            "_model_module_version": "1.2.0",
            "_view_count": null,
            "flex_flow": null,
            "width": null,
            "min_width": null,
            "border": null,
            "align_items": null,
            "bottom": null,
            "_model_module": "@jupyter-widgets/base",
            "top": null,
            "grid_column": null,
            "overflow_y": null,
            "overflow_x": null,
            "grid_auto_flow": null,
            "grid_area": null,
            "grid_template_columns": null,
            "flex": null,
            "_model_name": "LayoutModel",
            "justify_items": null,
            "grid_row": null,
            "max_height": null,
            "align_content": null,
            "visibility": null,
            "align_self": null,
            "height": null,
            "min_height": null,
            "padding": null,
            "grid_auto_rows": null,
            "grid_gap": null,
            "max_width": null,
            "order": null,
            "_view_module_version": "1.2.0",
            "grid_template_areas": null,
            "object_position": null,
            "object_fit": null,
            "grid_auto_columns": null,
            "margin": null,
            "display": null,
            "left": null
          }
        },
        "7783b98827404a18b6c98fb022558d8a": {
          "model_module": "@jupyter-widgets/controls",
          "model_name": "ProgressStyleModel",
          "model_module_version": "1.5.0",
          "state": {
            "_view_name": "StyleView",
            "_model_name": "ProgressStyleModel",
            "description_width": "",
            "_view_module": "@jupyter-widgets/base",
            "_model_module_version": "1.5.0",
            "_view_count": null,
            "_view_module_version": "1.2.0",
            "bar_color": null,
            "_model_module": "@jupyter-widgets/controls"
          }
        },
        "6e32c0a385dc4a04a0d2b06badc4ed08": {
          "model_module": "@jupyter-widgets/base",
          "model_name": "LayoutModel",
          "model_module_version": "1.2.0",
          "state": {
            "_view_name": "LayoutView",
            "grid_template_rows": null,
            "right": null,
            "justify_content": null,
            "_view_module": "@jupyter-widgets/base",
            "overflow": null,
            "_model_module_version": "1.2.0",
            "_view_count": null,
            "flex_flow": null,
            "width": null,
            "min_width": null,
            "border": null,
            "align_items": null,
            "bottom": null,
            "_model_module": "@jupyter-widgets/base",
            "top": null,
            "grid_column": null,
            "overflow_y": null,
            "overflow_x": null,
            "grid_auto_flow": null,
            "grid_area": null,
            "grid_template_columns": null,
            "flex": null,
            "_model_name": "LayoutModel",
            "justify_items": null,
            "grid_row": null,
            "max_height": null,
            "align_content": null,
            "visibility": null,
            "align_self": null,
            "height": null,
            "min_height": null,
            "padding": null,
            "grid_auto_rows": null,
            "grid_gap": null,
            "max_width": null,
            "order": null,
            "_view_module_version": "1.2.0",
            "grid_template_areas": null,
            "object_position": null,
            "object_fit": null,
            "grid_auto_columns": null,
            "margin": null,
            "display": null,
            "left": null
          }
        },
        "3c1aebf5d2c74c79b57a16cc0e5be48b": {
          "model_module": "@jupyter-widgets/controls",
          "model_name": "DescriptionStyleModel",
          "model_module_version": "1.5.0",
          "state": {
            "_view_name": "StyleView",
            "_model_name": "DescriptionStyleModel",
            "description_width": "",
            "_view_module": "@jupyter-widgets/base",
            "_model_module_version": "1.5.0",
            "_view_count": null,
            "_view_module_version": "1.2.0",
            "_model_module": "@jupyter-widgets/controls"
          }
        },
        "a136050956eb4a4480fb862e8df34b92": {
          "model_module": "@jupyter-widgets/base",
          "model_name": "LayoutModel",
          "model_module_version": "1.2.0",
          "state": {
            "_view_name": "LayoutView",
            "grid_template_rows": null,
            "right": null,
            "justify_content": null,
            "_view_module": "@jupyter-widgets/base",
            "overflow": null,
            "_model_module_version": "1.2.0",
            "_view_count": null,
            "flex_flow": null,
            "width": null,
            "min_width": null,
            "border": null,
            "align_items": null,
            "bottom": null,
            "_model_module": "@jupyter-widgets/base",
            "top": null,
            "grid_column": null,
            "overflow_y": null,
            "overflow_x": null,
            "grid_auto_flow": null,
            "grid_area": null,
            "grid_template_columns": null,
            "flex": null,
            "_model_name": "LayoutModel",
            "justify_items": null,
            "grid_row": null,
            "max_height": null,
            "align_content": null,
            "visibility": null,
            "align_self": null,
            "height": null,
            "min_height": null,
            "padding": null,
            "grid_auto_rows": null,
            "grid_gap": null,
            "max_width": null,
            "order": null,
            "_view_module_version": "1.2.0",
            "grid_template_areas": null,
            "object_position": null,
            "object_fit": null,
            "grid_auto_columns": null,
            "margin": null,
            "display": null,
            "left": null
          }
        },
        "0b35f4ea2b624bbabbebcdb58a9d7520": {
          "model_module": "@jupyter-widgets/controls",
          "model_name": "HBoxModel",
          "model_module_version": "1.5.0",
          "state": {
            "_view_name": "HBoxView",
            "_dom_classes": [],
            "_model_name": "HBoxModel",
            "_view_module": "@jupyter-widgets/controls",
            "_model_module_version": "1.5.0",
            "_view_count": null,
            "_view_module_version": "1.5.0",
            "box_style": "",
            "layout": "IPY_MODEL_063aa05e010748cfabadbc51dce7e56d",
            "_model_module": "@jupyter-widgets/controls",
            "children": [
              "IPY_MODEL_a16005d8966d4300a40d37a4902118d8",
              "IPY_MODEL_81f76231da8e41f5a9ac94f689773355",
              "IPY_MODEL_a473ec95f7a34f4a95a51cdcc6d2b2bb"
            ]
          }
        },
        "063aa05e010748cfabadbc51dce7e56d": {
          "model_module": "@jupyter-widgets/base",
          "model_name": "LayoutModel",
          "model_module_version": "1.2.0",
          "state": {
            "_view_name": "LayoutView",
            "grid_template_rows": null,
            "right": null,
            "justify_content": null,
            "_view_module": "@jupyter-widgets/base",
            "overflow": null,
            "_model_module_version": "1.2.0",
            "_view_count": null,
            "flex_flow": null,
            "width": null,
            "min_width": null,
            "border": null,
            "align_items": null,
            "bottom": null,
            "_model_module": "@jupyter-widgets/base",
            "top": null,
            "grid_column": null,
            "overflow_y": null,
            "overflow_x": null,
            "grid_auto_flow": null,
            "grid_area": null,
            "grid_template_columns": null,
            "flex": null,
            "_model_name": "LayoutModel",
            "justify_items": null,
            "grid_row": null,
            "max_height": null,
            "align_content": null,
            "visibility": null,
            "align_self": null,
            "height": null,
            "min_height": null,
            "padding": null,
            "grid_auto_rows": null,
            "grid_gap": null,
            "max_width": null,
            "order": null,
            "_view_module_version": "1.2.0",
            "grid_template_areas": null,
            "object_position": null,
            "object_fit": null,
            "grid_auto_columns": null,
            "margin": null,
            "display": null,
            "left": null
          }
        },
        "a16005d8966d4300a40d37a4902118d8": {
          "model_module": "@jupyter-widgets/controls",
          "model_name": "HTMLModel",
          "model_module_version": "1.5.0",
          "state": {
            "_view_name": "HTMLView",
            "style": "IPY_MODEL_d91b0983fc3a46e7bfed0af5121575c4",
            "_dom_classes": [],
            "description": "",
            "_model_name": "HTMLModel",
            "placeholder": "​",
            "_view_module": "@jupyter-widgets/controls",
            "_model_module_version": "1.5.0",
            "value": "100%",
            "_view_count": null,
            "_view_module_version": "1.5.0",
            "description_tooltip": null,
            "_model_module": "@jupyter-widgets/controls",
            "layout": "IPY_MODEL_dfb8a12aeeec46dbb0dd8fe159497168"
          }
        },
        "81f76231da8e41f5a9ac94f689773355": {
          "model_module": "@jupyter-widgets/controls",
          "model_name": "FloatProgressModel",
          "model_module_version": "1.5.0",
          "state": {
            "_view_name": "ProgressView",
            "style": "IPY_MODEL_ee74e39082b6473eaa50dc1830d9c756",
            "_dom_classes": [],
            "description": "",
            "_model_name": "FloatProgressModel",
            "bar_style": "success",
            "max": 26940,
            "_view_module": "@jupyter-widgets/controls",
            "_model_module_version": "1.5.0",
            "value": 26940,
            "_view_count": null,
            "_view_module_version": "1.5.0",
            "orientation": "horizontal",
            "min": 0,
            "description_tooltip": null,
            "_model_module": "@jupyter-widgets/controls",
            "layout": "IPY_MODEL_84c8b77844a1464585fbec349b9a6803"
          }
        },
        "a473ec95f7a34f4a95a51cdcc6d2b2bb": {
          "model_module": "@jupyter-widgets/controls",
          "model_name": "HTMLModel",
          "model_module_version": "1.5.0",
          "state": {
            "_view_name": "HTMLView",
            "style": "IPY_MODEL_a72d9070f1f2419e91c97e11cd806b8e",
            "_dom_classes": [],
            "description": "",
            "_model_name": "HTMLModel",
            "placeholder": "​",
            "_view_module": "@jupyter-widgets/controls",
            "_model_module_version": "1.5.0",
            "value": " 26940/26940 [00:00&lt;00:00, 80354.45it/s]",
            "_view_count": null,
            "_view_module_version": "1.5.0",
            "description_tooltip": null,
            "_model_module": "@jupyter-widgets/controls",
            "layout": "IPY_MODEL_b61bb8742e6342e9bd666de05f97c0a6"
          }
        },
        "d91b0983fc3a46e7bfed0af5121575c4": {
          "model_module": "@jupyter-widgets/controls",
          "model_name": "DescriptionStyleModel",
          "model_module_version": "1.5.0",
          "state": {
            "_view_name": "StyleView",
            "_model_name": "DescriptionStyleModel",
            "description_width": "",
            "_view_module": "@jupyter-widgets/base",
            "_model_module_version": "1.5.0",
            "_view_count": null,
            "_view_module_version": "1.2.0",
            "_model_module": "@jupyter-widgets/controls"
          }
        },
        "dfb8a12aeeec46dbb0dd8fe159497168": {
          "model_module": "@jupyter-widgets/base",
          "model_name": "LayoutModel",
          "model_module_version": "1.2.0",
          "state": {
            "_view_name": "LayoutView",
            "grid_template_rows": null,
            "right": null,
            "justify_content": null,
            "_view_module": "@jupyter-widgets/base",
            "overflow": null,
            "_model_module_version": "1.2.0",
            "_view_count": null,
            "flex_flow": null,
            "width": null,
            "min_width": null,
            "border": null,
            "align_items": null,
            "bottom": null,
            "_model_module": "@jupyter-widgets/base",
            "top": null,
            "grid_column": null,
            "overflow_y": null,
            "overflow_x": null,
            "grid_auto_flow": null,
            "grid_area": null,
            "grid_template_columns": null,
            "flex": null,
            "_model_name": "LayoutModel",
            "justify_items": null,
            "grid_row": null,
            "max_height": null,
            "align_content": null,
            "visibility": null,
            "align_self": null,
            "height": null,
            "min_height": null,
            "padding": null,
            "grid_auto_rows": null,
            "grid_gap": null,
            "max_width": null,
            "order": null,
            "_view_module_version": "1.2.0",
            "grid_template_areas": null,
            "object_position": null,
            "object_fit": null,
            "grid_auto_columns": null,
            "margin": null,
            "display": null,
            "left": null
          }
        },
        "ee74e39082b6473eaa50dc1830d9c756": {
          "model_module": "@jupyter-widgets/controls",
          "model_name": "ProgressStyleModel",
          "model_module_version": "1.5.0",
          "state": {
            "_view_name": "StyleView",
            "_model_name": "ProgressStyleModel",
            "description_width": "",
            "_view_module": "@jupyter-widgets/base",
            "_model_module_version": "1.5.0",
            "_view_count": null,
            "_view_module_version": "1.2.0",
            "bar_color": null,
            "_model_module": "@jupyter-widgets/controls"
          }
        },
        "84c8b77844a1464585fbec349b9a6803": {
          "model_module": "@jupyter-widgets/base",
          "model_name": "LayoutModel",
          "model_module_version": "1.2.0",
          "state": {
            "_view_name": "LayoutView",
            "grid_template_rows": null,
            "right": null,
            "justify_content": null,
            "_view_module": "@jupyter-widgets/base",
            "overflow": null,
            "_model_module_version": "1.2.0",
            "_view_count": null,
            "flex_flow": null,
            "width": null,
            "min_width": null,
            "border": null,
            "align_items": null,
            "bottom": null,
            "_model_module": "@jupyter-widgets/base",
            "top": null,
            "grid_column": null,
            "overflow_y": null,
            "overflow_x": null,
            "grid_auto_flow": null,
            "grid_area": null,
            "grid_template_columns": null,
            "flex": null,
            "_model_name": "LayoutModel",
            "justify_items": null,
            "grid_row": null,
            "max_height": null,
            "align_content": null,
            "visibility": null,
            "align_self": null,
            "height": null,
            "min_height": null,
            "padding": null,
            "grid_auto_rows": null,
            "grid_gap": null,
            "max_width": null,
            "order": null,
            "_view_module_version": "1.2.0",
            "grid_template_areas": null,
            "object_position": null,
            "object_fit": null,
            "grid_auto_columns": null,
            "margin": null,
            "display": null,
            "left": null
          }
        },
        "a72d9070f1f2419e91c97e11cd806b8e": {
          "model_module": "@jupyter-widgets/controls",
          "model_name": "DescriptionStyleModel",
          "model_module_version": "1.5.0",
          "state": {
            "_view_name": "StyleView",
            "_model_name": "DescriptionStyleModel",
            "description_width": "",
            "_view_module": "@jupyter-widgets/base",
            "_model_module_version": "1.5.0",
            "_view_count": null,
            "_view_module_version": "1.2.0",
            "_model_module": "@jupyter-widgets/controls"
          }
        },
        "b61bb8742e6342e9bd666de05f97c0a6": {
          "model_module": "@jupyter-widgets/base",
          "model_name": "LayoutModel",
          "model_module_version": "1.2.0",
          "state": {
            "_view_name": "LayoutView",
            "grid_template_rows": null,
            "right": null,
            "justify_content": null,
            "_view_module": "@jupyter-widgets/base",
            "overflow": null,
            "_model_module_version": "1.2.0",
            "_view_count": null,
            "flex_flow": null,
            "width": null,
            "min_width": null,
            "border": null,
            "align_items": null,
            "bottom": null,
            "_model_module": "@jupyter-widgets/base",
            "top": null,
            "grid_column": null,
            "overflow_y": null,
            "overflow_x": null,
            "grid_auto_flow": null,
            "grid_area": null,
            "grid_template_columns": null,
            "flex": null,
            "_model_name": "LayoutModel",
            "justify_items": null,
            "grid_row": null,
            "max_height": null,
            "align_content": null,
            "visibility": null,
            "align_self": null,
            "height": null,
            "min_height": null,
            "padding": null,
            "grid_auto_rows": null,
            "grid_gap": null,
            "max_width": null,
            "order": null,
            "_view_module_version": "1.2.0",
            "grid_template_areas": null,
            "object_position": null,
            "object_fit": null,
            "grid_auto_columns": null,
            "margin": null,
            "display": null,
            "left": null
          }
        },
        "9bc871a5e985439e98cd6ab09fb20b5c": {
          "model_module": "@jupyter-widgets/controls",
          "model_name": "HBoxModel",
          "model_module_version": "1.5.0",
          "state": {
            "_view_name": "HBoxView",
            "_dom_classes": [],
            "_model_name": "HBoxModel",
            "_view_module": "@jupyter-widgets/controls",
            "_model_module_version": "1.5.0",
            "_view_count": null,
            "_view_module_version": "1.5.0",
            "box_style": "",
            "layout": "IPY_MODEL_6d11ca41f20244249250212e4c19ae7a",
            "_model_module": "@jupyter-widgets/controls",
            "children": [
              "IPY_MODEL_c8b875d0cd5c4f559e35bdf11c6700c2",
              "IPY_MODEL_46e5b842b7564a4caa80383824723270",
              "IPY_MODEL_040340c726a145d3922521a5a208426d"
            ]
          }
        },
        "6d11ca41f20244249250212e4c19ae7a": {
          "model_module": "@jupyter-widgets/base",
          "model_name": "LayoutModel",
          "model_module_version": "1.2.0",
          "state": {
            "_view_name": "LayoutView",
            "grid_template_rows": null,
            "right": null,
            "justify_content": null,
            "_view_module": "@jupyter-widgets/base",
            "overflow": null,
            "_model_module_version": "1.2.0",
            "_view_count": null,
            "flex_flow": null,
            "width": null,
            "min_width": null,
            "border": null,
            "align_items": null,
            "bottom": null,
            "_model_module": "@jupyter-widgets/base",
            "top": null,
            "grid_column": null,
            "overflow_y": null,
            "overflow_x": null,
            "grid_auto_flow": null,
            "grid_area": null,
            "grid_template_columns": null,
            "flex": null,
            "_model_name": "LayoutModel",
            "justify_items": null,
            "grid_row": null,
            "max_height": null,
            "align_content": null,
            "visibility": null,
            "align_self": null,
            "height": null,
            "min_height": null,
            "padding": null,
            "grid_auto_rows": null,
            "grid_gap": null,
            "max_width": null,
            "order": null,
            "_view_module_version": "1.2.0",
            "grid_template_areas": null,
            "object_position": null,
            "object_fit": null,
            "grid_auto_columns": null,
            "margin": null,
            "display": null,
            "left": null
          }
        },
        "c8b875d0cd5c4f559e35bdf11c6700c2": {
          "model_module": "@jupyter-widgets/controls",
          "model_name": "HTMLModel",
          "model_module_version": "1.5.0",
          "state": {
            "_view_name": "HTMLView",
            "style": "IPY_MODEL_b2e9182929b74094b346978dbc0d3ea7",
            "_dom_classes": [],
            "description": "",
            "_model_name": "HTMLModel",
            "placeholder": "​",
            "_view_module": "@jupyter-widgets/controls",
            "_model_module_version": "1.5.0",
            "value": "100%",
            "_view_count": null,
            "_view_module_version": "1.5.0",
            "description_tooltip": null,
            "_model_module": "@jupyter-widgets/controls",
            "layout": "IPY_MODEL_48955913e86649969616fa211c108363"
          }
        },
        "46e5b842b7564a4caa80383824723270": {
          "model_module": "@jupyter-widgets/controls",
          "model_name": "FloatProgressModel",
          "model_module_version": "1.5.0",
          "state": {
            "_view_name": "ProgressView",
            "style": "IPY_MODEL_e1ab3f444f464c74b3bcb124b738d5e2",
            "_dom_classes": [],
            "description": "",
            "_model_name": "FloatProgressModel",
            "bar_style": "success",
            "max": 26940,
            "_view_module": "@jupyter-widgets/controls",
            "_model_module_version": "1.5.0",
            "value": 26940,
            "_view_count": null,
            "_view_module_version": "1.5.0",
            "orientation": "horizontal",
            "min": 0,
            "description_tooltip": null,
            "_model_module": "@jupyter-widgets/controls",
            "layout": "IPY_MODEL_83baf3b0bc27435e9aa54852f96816d0"
          }
        },
        "040340c726a145d3922521a5a208426d": {
          "model_module": "@jupyter-widgets/controls",
          "model_name": "HTMLModel",
          "model_module_version": "1.5.0",
          "state": {
            "_view_name": "HTMLView",
            "style": "IPY_MODEL_158eab87702047c68b00617dd0396966",
            "_dom_classes": [],
            "description": "",
            "_model_name": "HTMLModel",
            "placeholder": "​",
            "_view_module": "@jupyter-widgets/controls",
            "_model_module_version": "1.5.0",
            "value": " 26940/26940 [00:02&lt;00:00, 12331.53it/s]",
            "_view_count": null,
            "_view_module_version": "1.5.0",
            "description_tooltip": null,
            "_model_module": "@jupyter-widgets/controls",
            "layout": "IPY_MODEL_159b194724e647cb8435ed9e4c71b98b"
          }
        },
        "b2e9182929b74094b346978dbc0d3ea7": {
          "model_module": "@jupyter-widgets/controls",
          "model_name": "DescriptionStyleModel",
          "model_module_version": "1.5.0",
          "state": {
            "_view_name": "StyleView",
            "_model_name": "DescriptionStyleModel",
            "description_width": "",
            "_view_module": "@jupyter-widgets/base",
            "_model_module_version": "1.5.0",
            "_view_count": null,
            "_view_module_version": "1.2.0",
            "_model_module": "@jupyter-widgets/controls"
          }
        },
        "48955913e86649969616fa211c108363": {
          "model_module": "@jupyter-widgets/base",
          "model_name": "LayoutModel",
          "model_module_version": "1.2.0",
          "state": {
            "_view_name": "LayoutView",
            "grid_template_rows": null,
            "right": null,
            "justify_content": null,
            "_view_module": "@jupyter-widgets/base",
            "overflow": null,
            "_model_module_version": "1.2.0",
            "_view_count": null,
            "flex_flow": null,
            "width": null,
            "min_width": null,
            "border": null,
            "align_items": null,
            "bottom": null,
            "_model_module": "@jupyter-widgets/base",
            "top": null,
            "grid_column": null,
            "overflow_y": null,
            "overflow_x": null,
            "grid_auto_flow": null,
            "grid_area": null,
            "grid_template_columns": null,
            "flex": null,
            "_model_name": "LayoutModel",
            "justify_items": null,
            "grid_row": null,
            "max_height": null,
            "align_content": null,
            "visibility": null,
            "align_self": null,
            "height": null,
            "min_height": null,
            "padding": null,
            "grid_auto_rows": null,
            "grid_gap": null,
            "max_width": null,
            "order": null,
            "_view_module_version": "1.2.0",
            "grid_template_areas": null,
            "object_position": null,
            "object_fit": null,
            "grid_auto_columns": null,
            "margin": null,
            "display": null,
            "left": null
          }
        },
        "e1ab3f444f464c74b3bcb124b738d5e2": {
          "model_module": "@jupyter-widgets/controls",
          "model_name": "ProgressStyleModel",
          "model_module_version": "1.5.0",
          "state": {
            "_view_name": "StyleView",
            "_model_name": "ProgressStyleModel",
            "description_width": "",
            "_view_module": "@jupyter-widgets/base",
            "_model_module_version": "1.5.0",
            "_view_count": null,
            "_view_module_version": "1.2.0",
            "bar_color": null,
            "_model_module": "@jupyter-widgets/controls"
          }
        },
        "83baf3b0bc27435e9aa54852f96816d0": {
          "model_module": "@jupyter-widgets/base",
          "model_name": "LayoutModel",
          "model_module_version": "1.2.0",
          "state": {
            "_view_name": "LayoutView",
            "grid_template_rows": null,
            "right": null,
            "justify_content": null,
            "_view_module": "@jupyter-widgets/base",
            "overflow": null,
            "_model_module_version": "1.2.0",
            "_view_count": null,
            "flex_flow": null,
            "width": null,
            "min_width": null,
            "border": null,
            "align_items": null,
            "bottom": null,
            "_model_module": "@jupyter-widgets/base",
            "top": null,
            "grid_column": null,
            "overflow_y": null,
            "overflow_x": null,
            "grid_auto_flow": null,
            "grid_area": null,
            "grid_template_columns": null,
            "flex": null,
            "_model_name": "LayoutModel",
            "justify_items": null,
            "grid_row": null,
            "max_height": null,
            "align_content": null,
            "visibility": null,
            "align_self": null,
            "height": null,
            "min_height": null,
            "padding": null,
            "grid_auto_rows": null,
            "grid_gap": null,
            "max_width": null,
            "order": null,
            "_view_module_version": "1.2.0",
            "grid_template_areas": null,
            "object_position": null,
            "object_fit": null,
            "grid_auto_columns": null,
            "margin": null,
            "display": null,
            "left": null
          }
        },
        "158eab87702047c68b00617dd0396966": {
          "model_module": "@jupyter-widgets/controls",
          "model_name": "DescriptionStyleModel",
          "model_module_version": "1.5.0",
          "state": {
            "_view_name": "StyleView",
            "_model_name": "DescriptionStyleModel",
            "description_width": "",
            "_view_module": "@jupyter-widgets/base",
            "_model_module_version": "1.5.0",
            "_view_count": null,
            "_view_module_version": "1.2.0",
            "_model_module": "@jupyter-widgets/controls"
          }
        },
        "159b194724e647cb8435ed9e4c71b98b": {
          "model_module": "@jupyter-widgets/base",
          "model_name": "LayoutModel",
          "model_module_version": "1.2.0",
          "state": {
            "_view_name": "LayoutView",
            "grid_template_rows": null,
            "right": null,
            "justify_content": null,
            "_view_module": "@jupyter-widgets/base",
            "overflow": null,
            "_model_module_version": "1.2.0",
            "_view_count": null,
            "flex_flow": null,
            "width": null,
            "min_width": null,
            "border": null,
            "align_items": null,
            "bottom": null,
            "_model_module": "@jupyter-widgets/base",
            "top": null,
            "grid_column": null,
            "overflow_y": null,
            "overflow_x": null,
            "grid_auto_flow": null,
            "grid_area": null,
            "grid_template_columns": null,
            "flex": null,
            "_model_name": "LayoutModel",
            "justify_items": null,
            "grid_row": null,
            "max_height": null,
            "align_content": null,
            "visibility": null,
            "align_self": null,
            "height": null,
            "min_height": null,
            "padding": null,
            "grid_auto_rows": null,
            "grid_gap": null,
            "max_width": null,
            "order": null,
            "_view_module_version": "1.2.0",
            "grid_template_areas": null,
            "object_position": null,
            "object_fit": null,
            "grid_auto_columns": null,
            "margin": null,
            "display": null,
            "left": null
          }
        },
        "01260213952b4e8c8ed3969bf5a6866e": {
          "model_module": "@jupyter-widgets/controls",
          "model_name": "HBoxModel",
          "model_module_version": "1.5.0",
          "state": {
            "_view_name": "HBoxView",
            "_dom_classes": [],
            "_model_name": "HBoxModel",
            "_view_module": "@jupyter-widgets/controls",
            "_model_module_version": "1.5.0",
            "_view_count": null,
            "_view_module_version": "1.5.0",
            "box_style": "",
            "layout": "IPY_MODEL_0731982aed0c41679f19714eff65f532",
            "_model_module": "@jupyter-widgets/controls",
            "children": [
              "IPY_MODEL_bb66e2fe9f7b48439f0b21baf2c8fbb6",
              "IPY_MODEL_59549724d9884daa96762c6a1826ce83",
              "IPY_MODEL_03499080379142748a09616816579aa1"
            ]
          }
        },
        "0731982aed0c41679f19714eff65f532": {
          "model_module": "@jupyter-widgets/base",
          "model_name": "LayoutModel",
          "model_module_version": "1.2.0",
          "state": {
            "_view_name": "LayoutView",
            "grid_template_rows": null,
            "right": null,
            "justify_content": null,
            "_view_module": "@jupyter-widgets/base",
            "overflow": null,
            "_model_module_version": "1.2.0",
            "_view_count": null,
            "flex_flow": null,
            "width": null,
            "min_width": null,
            "border": null,
            "align_items": null,
            "bottom": null,
            "_model_module": "@jupyter-widgets/base",
            "top": null,
            "grid_column": null,
            "overflow_y": null,
            "overflow_x": null,
            "grid_auto_flow": null,
            "grid_area": null,
            "grid_template_columns": null,
            "flex": null,
            "_model_name": "LayoutModel",
            "justify_items": null,
            "grid_row": null,
            "max_height": null,
            "align_content": null,
            "visibility": null,
            "align_self": null,
            "height": null,
            "min_height": null,
            "padding": null,
            "grid_auto_rows": null,
            "grid_gap": null,
            "max_width": null,
            "order": null,
            "_view_module_version": "1.2.0",
            "grid_template_areas": null,
            "object_position": null,
            "object_fit": null,
            "grid_auto_columns": null,
            "margin": null,
            "display": null,
            "left": null
          }
        },
        "bb66e2fe9f7b48439f0b21baf2c8fbb6": {
          "model_module": "@jupyter-widgets/controls",
          "model_name": "HTMLModel",
          "model_module_version": "1.5.0",
          "state": {
            "_view_name": "HTMLView",
            "style": "IPY_MODEL_7df03e71ff0945eba390e9b524ecb260",
            "_dom_classes": [],
            "description": "",
            "_model_name": "HTMLModel",
            "placeholder": "​",
            "_view_module": "@jupyter-widgets/controls",
            "_model_module_version": "1.5.0",
            "value": "100%",
            "_view_count": null,
            "_view_module_version": "1.5.0",
            "description_tooltip": null,
            "_model_module": "@jupyter-widgets/controls",
            "layout": "IPY_MODEL_c27382feb0484f09b868e8d311ee7b2a"
          }
        },
        "59549724d9884daa96762c6a1826ce83": {
          "model_module": "@jupyter-widgets/controls",
          "model_name": "FloatProgressModel",
          "model_module_version": "1.5.0",
          "state": {
            "_view_name": "ProgressView",
            "style": "IPY_MODEL_58316b771efa4cffaad4fa5e3f4fc7bb",
            "_dom_classes": [],
            "description": "",
            "_model_name": "FloatProgressModel",
            "bar_style": "success",
            "max": 26940,
            "_view_module": "@jupyter-widgets/controls",
            "_model_module_version": "1.5.0",
            "value": 26940,
            "_view_count": null,
            "_view_module_version": "1.5.0",
            "orientation": "horizontal",
            "min": 0,
            "description_tooltip": null,
            "_model_module": "@jupyter-widgets/controls",
            "layout": "IPY_MODEL_35ca83bd7c79406b9347f650f8287b75"
          }
        },
        "03499080379142748a09616816579aa1": {
          "model_module": "@jupyter-widgets/controls",
          "model_name": "HTMLModel",
          "model_module_version": "1.5.0",
          "state": {
            "_view_name": "HTMLView",
            "style": "IPY_MODEL_d9a65c1734ca4bdd8e81a6caa07115ec",
            "_dom_classes": [],
            "description": "",
            "_model_name": "HTMLModel",
            "placeholder": "​",
            "_view_module": "@jupyter-widgets/controls",
            "_model_module_version": "1.5.0",
            "value": " 26940/26940 [00:02&lt;00:00, 10556.32it/s]",
            "_view_count": null,
            "_view_module_version": "1.5.0",
            "description_tooltip": null,
            "_model_module": "@jupyter-widgets/controls",
            "layout": "IPY_MODEL_ddd22137ae154d869311fa3246c9b974"
          }
        },
        "7df03e71ff0945eba390e9b524ecb260": {
          "model_module": "@jupyter-widgets/controls",
          "model_name": "DescriptionStyleModel",
          "model_module_version": "1.5.0",
          "state": {
            "_view_name": "StyleView",
            "_model_name": "DescriptionStyleModel",
            "description_width": "",
            "_view_module": "@jupyter-widgets/base",
            "_model_module_version": "1.5.0",
            "_view_count": null,
            "_view_module_version": "1.2.0",
            "_model_module": "@jupyter-widgets/controls"
          }
        },
        "c27382feb0484f09b868e8d311ee7b2a": {
          "model_module": "@jupyter-widgets/base",
          "model_name": "LayoutModel",
          "model_module_version": "1.2.0",
          "state": {
            "_view_name": "LayoutView",
            "grid_template_rows": null,
            "right": null,
            "justify_content": null,
            "_view_module": "@jupyter-widgets/base",
            "overflow": null,
            "_model_module_version": "1.2.0",
            "_view_count": null,
            "flex_flow": null,
            "width": null,
            "min_width": null,
            "border": null,
            "align_items": null,
            "bottom": null,
            "_model_module": "@jupyter-widgets/base",
            "top": null,
            "grid_column": null,
            "overflow_y": null,
            "overflow_x": null,
            "grid_auto_flow": null,
            "grid_area": null,
            "grid_template_columns": null,
            "flex": null,
            "_model_name": "LayoutModel",
            "justify_items": null,
            "grid_row": null,
            "max_height": null,
            "align_content": null,
            "visibility": null,
            "align_self": null,
            "height": null,
            "min_height": null,
            "padding": null,
            "grid_auto_rows": null,
            "grid_gap": null,
            "max_width": null,
            "order": null,
            "_view_module_version": "1.2.0",
            "grid_template_areas": null,
            "object_position": null,
            "object_fit": null,
            "grid_auto_columns": null,
            "margin": null,
            "display": null,
            "left": null
          }
        },
        "58316b771efa4cffaad4fa5e3f4fc7bb": {
          "model_module": "@jupyter-widgets/controls",
          "model_name": "ProgressStyleModel",
          "model_module_version": "1.5.0",
          "state": {
            "_view_name": "StyleView",
            "_model_name": "ProgressStyleModel",
            "description_width": "",
            "_view_module": "@jupyter-widgets/base",
            "_model_module_version": "1.5.0",
            "_view_count": null,
            "_view_module_version": "1.2.0",
            "bar_color": null,
            "_model_module": "@jupyter-widgets/controls"
          }
        },
        "35ca83bd7c79406b9347f650f8287b75": {
          "model_module": "@jupyter-widgets/base",
          "model_name": "LayoutModel",
          "model_module_version": "1.2.0",
          "state": {
            "_view_name": "LayoutView",
            "grid_template_rows": null,
            "right": null,
            "justify_content": null,
            "_view_module": "@jupyter-widgets/base",
            "overflow": null,
            "_model_module_version": "1.2.0",
            "_view_count": null,
            "flex_flow": null,
            "width": null,
            "min_width": null,
            "border": null,
            "align_items": null,
            "bottom": null,
            "_model_module": "@jupyter-widgets/base",
            "top": null,
            "grid_column": null,
            "overflow_y": null,
            "overflow_x": null,
            "grid_auto_flow": null,
            "grid_area": null,
            "grid_template_columns": null,
            "flex": null,
            "_model_name": "LayoutModel",
            "justify_items": null,
            "grid_row": null,
            "max_height": null,
            "align_content": null,
            "visibility": null,
            "align_self": null,
            "height": null,
            "min_height": null,
            "padding": null,
            "grid_auto_rows": null,
            "grid_gap": null,
            "max_width": null,
            "order": null,
            "_view_module_version": "1.2.0",
            "grid_template_areas": null,
            "object_position": null,
            "object_fit": null,
            "grid_auto_columns": null,
            "margin": null,
            "display": null,
            "left": null
          }
        },
        "d9a65c1734ca4bdd8e81a6caa07115ec": {
          "model_module": "@jupyter-widgets/controls",
          "model_name": "DescriptionStyleModel",
          "model_module_version": "1.5.0",
          "state": {
            "_view_name": "StyleView",
            "_model_name": "DescriptionStyleModel",
            "description_width": "",
            "_view_module": "@jupyter-widgets/base",
            "_model_module_version": "1.5.0",
            "_view_count": null,
            "_view_module_version": "1.2.0",
            "_model_module": "@jupyter-widgets/controls"
          }
        },
        "ddd22137ae154d869311fa3246c9b974": {
          "model_module": "@jupyter-widgets/base",
          "model_name": "LayoutModel",
          "model_module_version": "1.2.0",
          "state": {
            "_view_name": "LayoutView",
            "grid_template_rows": null,
            "right": null,
            "justify_content": null,
            "_view_module": "@jupyter-widgets/base",
            "overflow": null,
            "_model_module_version": "1.2.0",
            "_view_count": null,
            "flex_flow": null,
            "width": null,
            "min_width": null,
            "border": null,
            "align_items": null,
            "bottom": null,
            "_model_module": "@jupyter-widgets/base",
            "top": null,
            "grid_column": null,
            "overflow_y": null,
            "overflow_x": null,
            "grid_auto_flow": null,
            "grid_area": null,
            "grid_template_columns": null,
            "flex": null,
            "_model_name": "LayoutModel",
            "justify_items": null,
            "grid_row": null,
            "max_height": null,
            "align_content": null,
            "visibility": null,
            "align_self": null,
            "height": null,
            "min_height": null,
            "padding": null,
            "grid_auto_rows": null,
            "grid_gap": null,
            "max_width": null,
            "order": null,
            "_view_module_version": "1.2.0",
            "grid_template_areas": null,
            "object_position": null,
            "object_fit": null,
            "grid_auto_columns": null,
            "margin": null,
            "display": null,
            "left": null
          }
        }
      }
    }
  },
  "cells": [
    {
      "cell_type": "code",
      "metadata": {
        "colab": {
          "base_uri": "https://localhost:8080/"
        },
        "id": "R24mK4InyNz2",
        "outputId": "389b9365-2b18-4187-a100-b5ca32c3a3fb"
      },
      "source": [
        "import os\n",
        "import tensorflow as tf\n",
        "import pickle\n",
        "    \n",
        "# detect and init the TPU\n",
        "tpu = tf.distribute.cluster_resolver.TPUClusterResolver()\n",
        "tf.config.experimental_connect_to_cluster(tpu)\n",
        "tf.tpu.experimental.initialize_tpu_system(tpu)\n",
        "\n",
        "# instantiate a distribution strategy\n",
        "tpu_strategy = tf.distribute.experimental.TPUStrategy(tpu)"
      ],
      "execution_count": null,
      "outputs": [
        {
          "output_type": "stream",
          "name": "stdout",
          "text": [
            "INFO:tensorflow:Deallocate tpu buffers before initializing tpu system.\n"
          ]
        },
        {
          "output_type": "stream",
          "name": "stderr",
          "text": [
            "INFO:tensorflow:Deallocate tpu buffers before initializing tpu system.\n"
          ]
        },
        {
          "output_type": "stream",
          "name": "stdout",
          "text": [
            "INFO:tensorflow:Initializing the TPU system: grpc://10.123.22.106:8470\n"
          ]
        },
        {
          "output_type": "stream",
          "name": "stderr",
          "text": [
            "INFO:tensorflow:Initializing the TPU system: grpc://10.123.22.106:8470\n"
          ]
        },
        {
          "output_type": "stream",
          "name": "stdout",
          "text": [
            "INFO:tensorflow:Finished initializing TPU system.\n"
          ]
        },
        {
          "output_type": "stream",
          "name": "stderr",
          "text": [
            "INFO:tensorflow:Finished initializing TPU system.\n",
            "WARNING:absl:`tf.distribute.experimental.TPUStrategy` is deprecated, please use  the non experimental symbol `tf.distribute.TPUStrategy` instead.\n"
          ]
        },
        {
          "output_type": "stream",
          "name": "stdout",
          "text": [
            "INFO:tensorflow:Found TPU system:\n"
          ]
        },
        {
          "output_type": "stream",
          "name": "stderr",
          "text": [
            "INFO:tensorflow:Found TPU system:\n"
          ]
        },
        {
          "output_type": "stream",
          "name": "stdout",
          "text": [
            "INFO:tensorflow:*** Num TPU Cores: 8\n"
          ]
        },
        {
          "output_type": "stream",
          "name": "stderr",
          "text": [
            "INFO:tensorflow:*** Num TPU Cores: 8\n"
          ]
        },
        {
          "output_type": "stream",
          "name": "stdout",
          "text": [
            "INFO:tensorflow:*** Num TPU Workers: 1\n"
          ]
        },
        {
          "output_type": "stream",
          "name": "stderr",
          "text": [
            "INFO:tensorflow:*** Num TPU Workers: 1\n"
          ]
        },
        {
          "output_type": "stream",
          "name": "stdout",
          "text": [
            "INFO:tensorflow:*** Num TPU Cores Per Worker: 8\n"
          ]
        },
        {
          "output_type": "stream",
          "name": "stderr",
          "text": [
            "INFO:tensorflow:*** Num TPU Cores Per Worker: 8\n"
          ]
        },
        {
          "output_type": "stream",
          "name": "stdout",
          "text": [
            "INFO:tensorflow:*** Available Device: _DeviceAttributes(/job:localhost/replica:0/task:0/device:CPU:0, CPU, 0, 0)\n"
          ]
        },
        {
          "output_type": "stream",
          "name": "stderr",
          "text": [
            "INFO:tensorflow:*** Available Device: _DeviceAttributes(/job:localhost/replica:0/task:0/device:CPU:0, CPU, 0, 0)\n"
          ]
        },
        {
          "output_type": "stream",
          "name": "stdout",
          "text": [
            "INFO:tensorflow:*** Available Device: _DeviceAttributes(/job:worker/replica:0/task:0/device:CPU:0, CPU, 0, 0)\n"
          ]
        },
        {
          "output_type": "stream",
          "name": "stderr",
          "text": [
            "INFO:tensorflow:*** Available Device: _DeviceAttributes(/job:worker/replica:0/task:0/device:CPU:0, CPU, 0, 0)\n"
          ]
        },
        {
          "output_type": "stream",
          "name": "stdout",
          "text": [
            "INFO:tensorflow:*** Available Device: _DeviceAttributes(/job:worker/replica:0/task:0/device:TPU:0, TPU, 0, 0)\n"
          ]
        },
        {
          "output_type": "stream",
          "name": "stderr",
          "text": [
            "INFO:tensorflow:*** Available Device: _DeviceAttributes(/job:worker/replica:0/task:0/device:TPU:0, TPU, 0, 0)\n"
          ]
        },
        {
          "output_type": "stream",
          "name": "stdout",
          "text": [
            "INFO:tensorflow:*** Available Device: _DeviceAttributes(/job:worker/replica:0/task:0/device:TPU:1, TPU, 0, 0)\n"
          ]
        },
        {
          "output_type": "stream",
          "name": "stderr",
          "text": [
            "INFO:tensorflow:*** Available Device: _DeviceAttributes(/job:worker/replica:0/task:0/device:TPU:1, TPU, 0, 0)\n"
          ]
        },
        {
          "output_type": "stream",
          "name": "stdout",
          "text": [
            "INFO:tensorflow:*** Available Device: _DeviceAttributes(/job:worker/replica:0/task:0/device:TPU:2, TPU, 0, 0)\n"
          ]
        },
        {
          "output_type": "stream",
          "name": "stderr",
          "text": [
            "INFO:tensorflow:*** Available Device: _DeviceAttributes(/job:worker/replica:0/task:0/device:TPU:2, TPU, 0, 0)\n"
          ]
        },
        {
          "output_type": "stream",
          "name": "stdout",
          "text": [
            "INFO:tensorflow:*** Available Device: _DeviceAttributes(/job:worker/replica:0/task:0/device:TPU:3, TPU, 0, 0)\n"
          ]
        },
        {
          "output_type": "stream",
          "name": "stderr",
          "text": [
            "INFO:tensorflow:*** Available Device: _DeviceAttributes(/job:worker/replica:0/task:0/device:TPU:3, TPU, 0, 0)\n"
          ]
        },
        {
          "output_type": "stream",
          "name": "stdout",
          "text": [
            "INFO:tensorflow:*** Available Device: _DeviceAttributes(/job:worker/replica:0/task:0/device:TPU:4, TPU, 0, 0)\n"
          ]
        },
        {
          "output_type": "stream",
          "name": "stderr",
          "text": [
            "INFO:tensorflow:*** Available Device: _DeviceAttributes(/job:worker/replica:0/task:0/device:TPU:4, TPU, 0, 0)\n"
          ]
        },
        {
          "output_type": "stream",
          "name": "stdout",
          "text": [
            "INFO:tensorflow:*** Available Device: _DeviceAttributes(/job:worker/replica:0/task:0/device:TPU:5, TPU, 0, 0)\n"
          ]
        },
        {
          "output_type": "stream",
          "name": "stderr",
          "text": [
            "INFO:tensorflow:*** Available Device: _DeviceAttributes(/job:worker/replica:0/task:0/device:TPU:5, TPU, 0, 0)\n"
          ]
        },
        {
          "output_type": "stream",
          "name": "stdout",
          "text": [
            "INFO:tensorflow:*** Available Device: _DeviceAttributes(/job:worker/replica:0/task:0/device:TPU:6, TPU, 0, 0)\n"
          ]
        },
        {
          "output_type": "stream",
          "name": "stderr",
          "text": [
            "INFO:tensorflow:*** Available Device: _DeviceAttributes(/job:worker/replica:0/task:0/device:TPU:6, TPU, 0, 0)\n"
          ]
        },
        {
          "output_type": "stream",
          "name": "stdout",
          "text": [
            "INFO:tensorflow:*** Available Device: _DeviceAttributes(/job:worker/replica:0/task:0/device:TPU:7, TPU, 0, 0)\n"
          ]
        },
        {
          "output_type": "stream",
          "name": "stderr",
          "text": [
            "INFO:tensorflow:*** Available Device: _DeviceAttributes(/job:worker/replica:0/task:0/device:TPU:7, TPU, 0, 0)\n"
          ]
        },
        {
          "output_type": "stream",
          "name": "stdout",
          "text": [
            "INFO:tensorflow:*** Available Device: _DeviceAttributes(/job:worker/replica:0/task:0/device:TPU_SYSTEM:0, TPU_SYSTEM, 0, 0)\n"
          ]
        },
        {
          "output_type": "stream",
          "name": "stderr",
          "text": [
            "INFO:tensorflow:*** Available Device: _DeviceAttributes(/job:worker/replica:0/task:0/device:TPU_SYSTEM:0, TPU_SYSTEM, 0, 0)\n"
          ]
        },
        {
          "output_type": "stream",
          "name": "stdout",
          "text": [
            "INFO:tensorflow:*** Available Device: _DeviceAttributes(/job:worker/replica:0/task:0/device:XLA_CPU:0, XLA_CPU, 0, 0)\n"
          ]
        },
        {
          "output_type": "stream",
          "name": "stderr",
          "text": [
            "INFO:tensorflow:*** Available Device: _DeviceAttributes(/job:worker/replica:0/task:0/device:XLA_CPU:0, XLA_CPU, 0, 0)\n"
          ]
        }
      ]
    },
    {
      "cell_type": "code",
      "metadata": {
        "colab": {
          "base_uri": "https://localhost:8080/"
        },
        "id": "urLAiI-E3diJ",
        "outputId": "c1a5d13f-4167-4c96-b400-d681a17f8a8a"
      },
      "source": [
        "import re\n",
        "import random\n",
        "import time\n",
        "\n",
        "print('Library versions:')\n",
        "\n",
        "import keras\n",
        "print(f'keras:{keras.__version__}')\n",
        "import pandas as pd\n",
        "print(f'pandas:{pd.__version__}')\n",
        "\n",
        "import sklearn\n",
        "print(f'sklearn:{sklearn.__version__}')\n",
        "import nltk\n",
        "print(f'nltk:{nltk.__version__}')\n",
        "import numpy as np\n",
        "print(f'numpy:{np.__version__}')\n",
        "\n",
        "from sklearn.feature_extraction.text import CountVectorizer\n",
        "from nltk.tokenize import casual_tokenize\n",
        "\n",
        "from tqdm import tqdm_notebook as tqdm"
      ],
      "execution_count": null,
      "outputs": [
        {
          "output_type": "stream",
          "name": "stdout",
          "text": [
            "Library versions:\n",
            "keras:2.7.0\n",
            "pandas:1.1.5\n",
            "sklearn:1.0.1\n",
            "nltk:3.2.5\n",
            "numpy:1.19.5\n"
          ]
        }
      ]
    },
    {
      "cell_type": "code",
      "metadata": {
        "id": "N76VxtuY4KvU"
      },
      "source": [
        "MAX_VOCAB_SIZE = 2**13\n",
        "MAX_MESSAGE_LEN = 30  \n",
        "EMBEDDING_SIZE = 100\n",
        "CONTEXT_SIZE = 100\n",
        "BATCH_SIZE = 4\n",
        "DROPOUT = 0.2\n",
        "LEARNING_RATE=0.005\n",
        "\n",
        "# Tokens needed for seq2seq\n",
        "UNK = 0  # words that aren't found in the vocab\n",
        "PAD = 1  # after message has finished, this fills all remaining vector positions\n",
        "START = 2  # provided to the model at position 0 for every response predicted\n",
        "\n",
        "# Implementaiton detail for allowing this to be run in Kaggle's notebook hardware\n",
        "SUB_BATCH_SIZE = 1000"
      ],
      "execution_count": null,
      "outputs": []
    },
    {
      "cell_type": "code",
      "metadata": {
        "id": "wc7Pk9bT4RgK"
      },
      "source": [
        "tweets = pd.read_csv('/content/drive/MyDrive/Saswat/archive (5)/twcs/twcs.csv')\n",
        "\n",
        "first_inbound = tweets[pd.isnull(tweets.in_response_to_tweet_id) & tweets.inbound]\n",
        "\n",
        "inbounds_and_outbounds = pd.merge(first_inbound, tweets, left_on='tweet_id', \n",
        "                                  right_on='in_response_to_tweet_id').sample(frac=1)"
      ],
      "execution_count": null,
      "outputs": []
    },
    {
      "cell_type": "code",
      "metadata": {
        "colab": {
          "base_uri": "https://localhost:8080/",
          "height": 156,
          "referenced_widgets": [
            "f11fc911811b4b5ea045f5fdb28e9f10",
            "78bf20d156d34ae799103bf106eef3f8",
            "03740d898f0c4263a1625b17a278d3c7",
            "b15a29db26f64e13ba3aa24a37ec1928",
            "f7500fd69ac9496c8f1609485a835547",
            "b295dcf6215941bebc47244e5ea56211",
            "7d719fd192c74bf08f24d0fc8e517bfe",
            "f847937d184141968a8ecee17daba812",
            "e21d87e0813643299571daba44f1938b",
            "6acb0c5a1f944431b453787fda8c0835",
            "9c7acc21002640db863b54e03d162395"
          ]
        },
        "id": "-ou-GRmX4UUo",
        "outputId": "db0d0a18-0ef8-4cab-af02-8e43124f7b85"
      },
      "source": [
        "# Filter to only outbound replies (from spotifycares)\n",
        "x = inbounds_and_outbounds[inbounds_and_outbounds.author_id_y == 'SpotifyCares']\n",
        "inbounds_and_outbounds = x[inbounds_and_outbounds.inbound_y ^ True]\n",
        "\n",
        "tqdm().pandas()"
      ],
      "execution_count": null,
      "outputs": [
        {
          "output_type": "stream",
          "name": "stderr",
          "text": [
            "/usr/local/lib/python3.7/dist-packages/ipykernel_launcher.py:3: UserWarning: Boolean Series key will be reindexed to match DataFrame index.\n",
            "  This is separate from the ipykernel package so we can avoid doing imports until\n",
            "/usr/local/lib/python3.7/dist-packages/ipykernel_launcher.py:5: TqdmDeprecationWarning: This function will be removed in tqdm==5.0.0\n",
            "Please use `tqdm.notebook.tqdm` instead of `tqdm.tqdm_notebook`\n",
            "  \"\"\"\n"
          ]
        },
        {
          "output_type": "display_data",
          "data": {
            "application/vnd.jupyter.widget-view+json": {
              "model_id": "f11fc911811b4b5ea045f5fdb28e9f10",
              "version_minor": 0,
              "version_major": 2
            },
            "text/plain": [
              "0it [00:00, ?it/s]"
            ]
          },
          "metadata": {}
        }
      ]
    },
    {
      "cell_type": "code",
      "metadata": {
        "colab": {
          "base_uri": "https://localhost:8080/"
        },
        "id": "eczKshEG5h_b",
        "outputId": "28e378d6-6dbf-43ca-f195-6d0732de91bf"
      },
      "source": [
        "print(f'Data shape: {inbounds_and_outbounds.shape}')"
      ],
      "execution_count": null,
      "outputs": [
        {
          "output_type": "stream",
          "name": "stdout",
          "text": [
            "Data shape: (26940, 14)\n"
          ]
        }
      ]
    },
    {
      "cell_type": "code",
      "metadata": {
        "colab": {
          "base_uri": "https://localhost:8080/",
          "height": 81,
          "referenced_widgets": [
            "be23fc42092c496a92dcac1ed4e9656d",
            "343309e703ef4def95f1076cc896d702",
            "d52a210efd2f47aba96254679344b6cb",
            "08d946aaf3184f32ab7d1917eb4d7810",
            "f7b47b4e9c0f4fb3beaad1eec5be31a2",
            "1697c5c8cb9d464686e2cdab515eb53e",
            "2dd9593c291247ae9277ff7f7e1fe048",
            "7783b98827404a18b6c98fb022558d8a",
            "6e32c0a385dc4a04a0d2b06badc4ed08",
            "3c1aebf5d2c74c79b57a16cc0e5be48b",
            "a136050956eb4a4480fb862e8df34b92",
            "0b35f4ea2b624bbabbebcdb58a9d7520",
            "063aa05e010748cfabadbc51dce7e56d",
            "a16005d8966d4300a40d37a4902118d8",
            "81f76231da8e41f5a9ac94f689773355",
            "a473ec95f7a34f4a95a51cdcc6d2b2bb",
            "d91b0983fc3a46e7bfed0af5121575c4",
            "dfb8a12aeeec46dbb0dd8fe159497168",
            "ee74e39082b6473eaa50dc1830d9c756",
            "84c8b77844a1464585fbec349b9a6803",
            "a72d9070f1f2419e91c97e11cd806b8e",
            "b61bb8742e6342e9bd666de05f97c0a6"
          ]
        },
        "id": "D_TaIBAI5knz",
        "outputId": "d7d743fc-882f-4486-9dd3-169a498d26e7"
      },
      "source": [
        "# Replace anonymized screen names with common token @__sn__\n",
        "def sn_replace(match):\n",
        "    _sn = match.group(2).lower()\n",
        "    if not _sn.isnumeric():\n",
        "        # This is a company screen name\n",
        "        return match.group(1) + match.group(2)\n",
        "    return '@__sn__'\n",
        "\n",
        "sn_re = re.compile('(\\W@|^@)([a-zA-Z0-9_]+)')\n",
        "\n",
        "x_text = inbounds_and_outbounds.text_x.progress_apply(lambda txt: sn_re.sub(sn_replace, txt))\n",
        "y_text = inbounds_and_outbounds.text_y.progress_apply(lambda txt: sn_re.sub(sn_replace, txt))"
      ],
      "execution_count": null,
      "outputs": [
        {
          "output_type": "display_data",
          "data": {
            "application/vnd.jupyter.widget-view+json": {
              "model_id": "be23fc42092c496a92dcac1ed4e9656d",
              "version_minor": 0,
              "version_major": 2
            },
            "text/plain": [
              "  0%|          | 0/26940 [00:00<?, ?it/s]"
            ]
          },
          "metadata": {}
        },
        {
          "output_type": "display_data",
          "data": {
            "application/vnd.jupyter.widget-view+json": {
              "model_id": "0b35f4ea2b624bbabbebcdb58a9d7520",
              "version_minor": 0,
              "version_major": 2
            },
            "text/plain": [
              "  0%|          | 0/26940 [00:00<?, ?it/s]"
            ]
          },
          "metadata": {}
        }
      ]
    },
    {
      "cell_type": "code",
      "metadata": {
        "colab": {
          "base_uri": "https://localhost:8080/"
        },
        "id": "zN-uERgL5uLV",
        "outputId": "f9eab25b-5801-4573-c5c3-b16033ef7a54"
      },
      "source": [
        "count_vec = CountVectorizer(tokenizer=casual_tokenize, max_features=MAX_VOCAB_SIZE - 3)\n",
        "print(\"Fitting CountVectorizer on X and Y text data...\")\n",
        "count_vec.fit((x_text + y_text))\n",
        "analyzer = count_vec.build_analyzer()\n",
        "vocab = {k: v + 3 for k, v in count_vec.vocabulary_.items()}\n",
        "vocab['__unk__'] = UNK\n",
        "vocab['__pad__'] = PAD\n",
        "vocab['__start__'] = START\n",
        "\n",
        "# Used to turn seq2seq predictions into human readable strings\n",
        "reverse_vocab = {v: k for k, v in vocab.items()}\n",
        "print(f\"Learned vocab of {len(vocab)} items.\")"
      ],
      "execution_count": null,
      "outputs": [
        {
          "output_type": "stream",
          "name": "stdout",
          "text": [
            "Fitting CountVectorizer on X and Y text data...\n"
          ]
        },
        {
          "output_type": "stream",
          "name": "stderr",
          "text": [
            "/usr/local/lib/python3.7/dist-packages/sklearn/feature_extraction/text.py:517: UserWarning: The parameter 'token_pattern' will not be used since 'tokenizer' is not None'\n",
            "  \"The parameter 'token_pattern' will not be used\"\n"
          ]
        },
        {
          "output_type": "stream",
          "name": "stdout",
          "text": [
            "Learned vocab of 8192 items.\n"
          ]
        }
      ]
    },
    {
      "cell_type": "code",
      "metadata": {
        "id": "C7UID5305zBK"
      },
      "source": [
        "def to_word_idx(sentence):\n",
        "    full_length = [vocab.get(tok, UNK) for tok in analyzer(sentence)] + [PAD] * MAX_MESSAGE_LEN\n",
        "    return full_length[:MAX_MESSAGE_LEN]\n",
        "\n",
        "def from_word_idx(word_idxs):\n",
        "    return ' '.join(reverse_vocab[idx] for idx in word_idxs if idx != PAD).strip()"
      ],
      "execution_count": null,
      "outputs": []
    },
    {
      "cell_type": "code",
      "metadata": {
        "colab": {
          "base_uri": "https://localhost:8080/",
          "height": 170,
          "referenced_widgets": [
            "9bc871a5e985439e98cd6ab09fb20b5c",
            "6d11ca41f20244249250212e4c19ae7a",
            "c8b875d0cd5c4f559e35bdf11c6700c2",
            "46e5b842b7564a4caa80383824723270",
            "040340c726a145d3922521a5a208426d",
            "b2e9182929b74094b346978dbc0d3ea7",
            "48955913e86649969616fa211c108363",
            "e1ab3f444f464c74b3bcb124b738d5e2",
            "83baf3b0bc27435e9aa54852f96816d0",
            "158eab87702047c68b00617dd0396966",
            "159b194724e647cb8435ed9e4c71b98b",
            "01260213952b4e8c8ed3969bf5a6866e",
            "0731982aed0c41679f19714eff65f532",
            "bb66e2fe9f7b48439f0b21baf2c8fbb6",
            "59549724d9884daa96762c6a1826ce83",
            "03499080379142748a09616816579aa1",
            "7df03e71ff0945eba390e9b524ecb260",
            "c27382feb0484f09b868e8d311ee7b2a",
            "58316b771efa4cffaad4fa5e3f4fc7bb",
            "35ca83bd7c79406b9347f650f8287b75",
            "d9a65c1734ca4bdd8e81a6caa07115ec",
            "ddd22137ae154d869311fa3246c9b974"
          ]
        },
        "id": "FFWgK8KV53Gg",
        "outputId": "4b621ddb-ac74-427a-d9ed-b1e9a994b59a"
      },
      "source": [
        "x_text.head().apply(to_word_idx).apply(from_word_idx)\n",
        "x = pd.np.vstack(x_text.progress_apply(to_word_idx).values)\n",
        "y = pd.np.vstack(y_text.progress_apply(to_word_idx).values)"
      ],
      "execution_count": null,
      "outputs": [
        {
          "output_type": "stream",
          "name": "stderr",
          "text": [
            "/usr/local/lib/python3.7/dist-packages/ipykernel_launcher.py:2: FutureWarning: The pandas.np module is deprecated and will be removed from pandas in a future version. Import numpy directly instead\n",
            "  \n"
          ]
        },
        {
          "output_type": "display_data",
          "data": {
            "application/vnd.jupyter.widget-view+json": {
              "model_id": "9bc871a5e985439e98cd6ab09fb20b5c",
              "version_minor": 0,
              "version_major": 2
            },
            "text/plain": [
              "  0%|          | 0/26940 [00:00<?, ?it/s]"
            ]
          },
          "metadata": {}
        },
        {
          "output_type": "stream",
          "name": "stderr",
          "text": [
            "/usr/local/lib/python3.7/dist-packages/ipykernel_launcher.py:3: FutureWarning: The pandas.np module is deprecated and will be removed from pandas in a future version. Import numpy directly instead\n",
            "  This is separate from the ipykernel package so we can avoid doing imports until\n"
          ]
        },
        {
          "output_type": "display_data",
          "data": {
            "application/vnd.jupyter.widget-view+json": {
              "model_id": "01260213952b4e8c8ed3969bf5a6866e",
              "version_minor": 0,
              "version_major": 2
            },
            "text/plain": [
              "  0%|          | 0/26940 [00:00<?, ?it/s]"
            ]
          },
          "metadata": {}
        }
      ]
    },
    {
      "cell_type": "code",
      "metadata": {
        "colab": {
          "base_uri": "https://localhost:8080/"
        },
        "id": "V9Z5zgRq56e9",
        "outputId": "df9c5706-5a8a-4789-b3c9-9e8ac8ccb6c5"
      },
      "source": [
        "all_idx = list(range(len(x)))\n",
        "train_idx = set(random.sample(all_idx, int(0.8 * len(all_idx))))\n",
        "test_idx = {idx for idx in all_idx if idx not in train_idx}\n",
        "\n",
        "train_x = x[list(train_idx)]\n",
        "test_x = x[list(test_idx)]\n",
        "train_y = y[list(train_idx)]\n",
        "test_y = y[list(test_idx)]\n",
        "\n",
        "assert train_x.shape == train_y.shape\n",
        "assert test_x.shape == test_y.shape\n",
        "\n",
        "print(f'Training data of shape {train_x.shape} and test data of shape {test_x.shape}.')"
      ],
      "execution_count": null,
      "outputs": [
        {
          "output_type": "stream",
          "name": "stdout",
          "text": [
            "Training data of shape (21552, 30) and test data of shape (5388, 30).\n"
          ]
        }
      ]
    },
    {
      "cell_type": "code",
      "metadata": {
        "id": "_dnFpgMz5-3p"
      },
      "source": [
        "from keras.models import Model\n",
        "from keras.optimizers import adam_v2\n",
        "\n",
        "\n",
        "from keras.layers import Dense, Input, LSTM, Dropout, Embedding, RepeatVector, concatenate, \\\n",
        "    TimeDistributed\n",
        "from keras.utils import np_utils\n",
        "\n",
        "import tensorflow as tf\n",
        "import os"
      ],
      "execution_count": null,
      "outputs": []
    },
    {
      "cell_type": "code",
      "metadata": {
        "colab": {
          "base_uri": "https://localhost:8080/"
        },
        "id": "lqIHUmmT6C7a",
        "outputId": "792dcf76-3ae4-492b-f9a2-adfbc9e853d5"
      },
      "source": [
        "# use TPU\n",
        "def create_model():\n",
        "    shared_embedding = Embedding(\n",
        "        output_dim=EMBEDDING_SIZE,\n",
        "        input_dim=MAX_VOCAB_SIZE,\n",
        "        input_length=MAX_MESSAGE_LEN,\n",
        "        name='embedding',\n",
        "    )\n",
        "    \n",
        "    # ENCODER\n",
        "    \n",
        "    encoder_input = Input(\n",
        "        shape=(MAX_MESSAGE_LEN,),\n",
        "        dtype='int32',\n",
        "        name='encoder_input',\n",
        "    )\n",
        "    \n",
        "    embedded_input = shared_embedding(encoder_input)\n",
        "    \n",
        "\n",
        "    # input sequence provided.\n",
        "    encoder_rnn = LSTM(\n",
        "        CONTEXT_SIZE,\n",
        "        name='encoder',\n",
        "        dropout=DROPOUT\n",
        "    )\n",
        "    \n",
        "    context = RepeatVector(MAX_MESSAGE_LEN)(encoder_rnn(embedded_input))\n",
        "    \n",
        "    # DECODER\n",
        "    \n",
        "    last_word_input = Input(\n",
        "        shape=(MAX_MESSAGE_LEN, ),\n",
        "        dtype='int32',\n",
        "        name='last_word_input',\n",
        "    )\n",
        "    \n",
        "    embedded_last_word = shared_embedding(last_word_input)\n",
        "    \n",
        "    decoder_input = concatenate([embedded_last_word, context], axis=2)\n",
        "    \n",
        "    decoder_rnn = LSTM(\n",
        "        CONTEXT_SIZE,\n",
        "        name='decoder',\n",
        "        return_sequences=True,\n",
        "        dropout=DROPOUT\n",
        "    )\n",
        "    \n",
        "    decoder_output = decoder_rnn(decoder_input)\n",
        "    \n",
        "    # TimeDistributed allows the dense layer to be applied to each decoder output per timestep\n",
        "    next_word_dense = TimeDistributed(\n",
        "        Dense(int(MAX_VOCAB_SIZE / 2), activation='relu'),\n",
        "        name='next_word_dense',\n",
        "    )(decoder_output)\n",
        "    \n",
        "    next_word = TimeDistributed(\n",
        "        Dense(MAX_VOCAB_SIZE, activation='softmax'),\n",
        "        name='next_word_softmax'\n",
        "    )(next_word_dense)\n",
        "    \n",
        "    return Model(inputs=[encoder_input, last_word_input], outputs=[next_word])\n",
        "\n",
        "\n",
        "optimizer = tf.optimizers.Adam(lr=LEARNING_RATE, clipvalue=5.0)\n",
        "\n",
        "# use TPU\n",
        "with tpu_strategy.scope():\n",
        "    \n",
        "    s2s_model = create_model()\n",
        "    s2s_model.compile(optimizer='adam', loss='categorical_crossentropy')"
      ],
      "execution_count": null,
      "outputs": [
        {
          "output_type": "stream",
          "name": "stderr",
          "text": [
            "/usr/local/lib/python3.7/dist-packages/keras/optimizer_v2/adam.py:105: UserWarning: The `lr` argument is deprecated, use `learning_rate` instead.\n",
            "  super(Adam, self).__init__(name, **kwargs)\n"
          ]
        }
      ]
    },
    {
      "cell_type": "code",
      "metadata": {
        "id": "nmnLlq9p8Abo"
      },
      "source": [
        "def add_start_token(y_array):\n",
        "    \"\"\" Adds the start token to vectors.  Used for training data. \"\"\"\n",
        "    return np.hstack([\n",
        "        START * np.ones((len(y_array), 1)),\n",
        "        y_array[:, :-1],\n",
        "    ])\n",
        "\n",
        "def binarize_labels(labels):\n",
        "    \"\"\" Helper function that turns integer word indexes into sparse binary matrices for \n",
        "        the expected model output.\n",
        "    \"\"\"\n",
        "    return np.array([np_utils.to_categorical(row, num_classes=MAX_VOCAB_SIZE)\n",
        "                     for row in labels])"
      ],
      "execution_count": null,
      "outputs": []
    },
    {
      "cell_type": "code",
      "metadata": {
        "id": "jsiEK37S8Ggy"
      },
      "source": [
        "def respond_to(model, text):\n",
        "    \"\"\" Helper function that takes a text input and provides a text output. \"\"\"\n",
        "    input_y = add_start_token(PAD * np.ones((1, MAX_MESSAGE_LEN)))\n",
        "    idxs = np.array(to_word_idx(text)).reshape((1, MAX_MESSAGE_LEN))\n",
        "    for position in range(MAX_MESSAGE_LEN - 1):\n",
        "        prediction = model.predict([idxs, input_y]).argmax(axis=2)[0]\n",
        "        input_y[:,position + 1] = prediction[position]\n",
        "    return from_word_idx(model.predict([idxs, input_y]).argmax(axis=2)[0])"
      ],
      "execution_count": null,
      "outputs": []
    },
    {
      "cell_type": "code",
      "metadata": {
        "id": "FYxLQOW38MEF"
      },
      "source": [
        "def train_mini_epoch(model, start_idx, end_idx, epoch):\n",
        "    \"\"\" Batching seems necessary in Kaggle Jupyter Notebook environments, since\n",
        "        `model.fit` seems to freeze on larger batches (somewhere 1k-10k).\n",
        "    \"\"\"\n",
        "    b_train_y = binarize_labels(train_y[start_idx:end_idx])\n",
        "    input_train_y = add_start_token(train_y[start_idx:end_idx])\n",
        "    \n",
        "    model.fit(\n",
        "        [train_x[start_idx:end_idx], input_train_y], \n",
        "        b_train_y,\n",
        "        epochs=1,\n",
        "        batch_size=BATCH_SIZE,\n",
        "    )\n",
        "    \n",
        "    rand_idx = random.sample(list(range(len(test_x))), SUB_BATCH_SIZE)\n",
        "    \n",
        "    \n",
        "    if epoch == 9:\n",
        "        print('Test results:', model.evaluate(\n",
        "            [test_x[rand_idx], add_start_token(test_y[rand_idx])],\n",
        "            binarize_labels(test_y[rand_idx])\n",
        "        ))"
      ],
      "execution_count": null,
      "outputs": []
    },
    {
      "cell_type": "code",
      "metadata": {
        "colab": {
          "base_uri": "https://localhost:8080/"
        },
        "id": "LoaBZf798Q3w",
        "outputId": "43cadac7-093e-4cd8-c8ce-041a0ecf648b"
      },
      "source": [
        "training_time_limit = 360 * 600  # seconds (notebooks terminate after 10 hour)\n",
        "start_time = time.time()\n",
        "stop_after = start_time + training_time_limit\n",
        "\n",
        "class TimesUpInterrupt(Exception):\n",
        "    pass\n",
        "\n",
        "try:\n",
        "    for epoch in range(3):\n",
        "        print(f'Training in epoch {epoch}...')\n",
        "\n",
        "            \n",
        "        for start_idx in range(0, len(train_x), SUB_BATCH_SIZE):\n",
        "            train_mini_epoch(s2s_model, start_idx, start_idx + SUB_BATCH_SIZE, epoch)\n",
        "            if time.time() > stop_after:\n",
        "                raise TimesUpInterrupt\n",
        "except KeyboardInterrupt:\n",
        "    print(\"Halting training from keyboard interrupt.\")\n",
        "except TimesUpInterrupt:\n",
        "    print(f\"Halting after {time.time() - start_time} seconds spent training.\")"
      ],
      "execution_count": null,
      "outputs": [
        {
          "output_type": "stream",
          "name": "stdout",
          "text": [
            "Training in epoch 0...\n",
            "WARNING:tensorflow:From /usr/local/lib/python3.7/dist-packages/keras/engine/training.py:2970: StrategyBase.unwrap (from tensorflow.python.distribute.distribute_lib) is deprecated and will be removed in a future version.\n",
            "Instructions for updating:\n",
            "use `experimental_local_results` instead.\n"
          ]
        },
        {
          "output_type": "stream",
          "name": "stderr",
          "text": [
            "WARNING:tensorflow:From /usr/local/lib/python3.7/dist-packages/keras/engine/training.py:2970: StrategyBase.unwrap (from tensorflow.python.distribute.distribute_lib) is deprecated and will be removed in a future version.\n",
            "Instructions for updating:\n",
            "use `experimental_local_results` instead.\n"
          ]
        },
        {
          "output_type": "stream",
          "name": "stdout",
          "text": [
            "250/250 [==============================] - 19s 29ms/step - loss: 4.5454\n",
            "250/250 [==============================] - 7s 29ms/step - loss: 3.0137\n",
            "250/250 [==============================] - 7s 29ms/step - loss: 2.5147\n",
            "250/250 [==============================] - 7s 29ms/step - loss: 2.0654\n",
            "250/250 [==============================] - 7s 29ms/step - loss: 1.9329\n",
            "250/250 [==============================] - 7s 29ms/step - loss: 1.8082\n",
            "250/250 [==============================] - 7s 29ms/step - loss: 1.6666\n",
            "250/250 [==============================] - 7s 29ms/step - loss: 1.6770\n",
            "250/250 [==============================] - 7s 29ms/step - loss: 1.6031\n",
            "250/250 [==============================] - 7s 29ms/step - loss: 1.5367\n",
            "250/250 [==============================] - 7s 29ms/step - loss: 1.4851\n",
            "250/250 [==============================] - 7s 29ms/step - loss: 1.4071\n",
            "250/250 [==============================] - 7s 29ms/step - loss: 1.4076\n",
            "250/250 [==============================] - 7s 29ms/step - loss: 1.3653\n",
            "250/250 [==============================] - 7s 29ms/step - loss: 1.3348\n",
            "250/250 [==============================] - 7s 29ms/step - loss: 1.4005\n",
            "250/250 [==============================] - 7s 29ms/step - loss: 1.3708\n",
            "250/250 [==============================] - 7s 29ms/step - loss: 1.3001\n",
            "250/250 [==============================] - 7s 29ms/step - loss: 1.3660\n",
            "250/250 [==============================] - 7s 28ms/step - loss: 1.2815\n",
            "250/250 [==============================] - 7s 29ms/step - loss: 1.3442\n",
            "138/138 [==============================] - 4s 28ms/step - loss: 1.2436\n",
            "Training in epoch 1...\n",
            "250/250 [==============================] - 7s 29ms/step - loss: 1.2357\n",
            "250/250 [==============================] - 7s 29ms/step - loss: 1.2190\n",
            "250/250 [==============================] - 7s 29ms/step - loss: 1.2161\n",
            "250/250 [==============================] - 7s 29ms/step - loss: 1.1477\n",
            "250/250 [==============================] - 7s 29ms/step - loss: 1.1645\n",
            "250/250 [==============================] - 7s 29ms/step - loss: 1.1855\n",
            "250/250 [==============================] - 7s 29ms/step - loss: 1.1178\n",
            "250/250 [==============================] - 7s 29ms/step - loss: 1.1888\n",
            "250/250 [==============================] - 7s 29ms/step - loss: 1.1621\n",
            "250/250 [==============================] - 7s 29ms/step - loss: 1.1424\n",
            "250/250 [==============================] - 7s 30ms/step - loss: 1.1133\n",
            "250/250 [==============================] - 8s 30ms/step - loss: 1.0876\n",
            "250/250 [==============================] - 7s 29ms/step - loss: 1.1034\n",
            "250/250 [==============================] - 7s 29ms/step - loss: 1.0772\n",
            "250/250 [==============================] - 7s 29ms/step - loss: 1.0788\n",
            "250/250 [==============================] - 7s 29ms/step - loss: 1.1248\n",
            "250/250 [==============================] - 7s 29ms/step - loss: 1.1057\n",
            "250/250 [==============================] - 7s 29ms/step - loss: 1.0591\n",
            "250/250 [==============================] - 7s 29ms/step - loss: 1.1221\n",
            "250/250 [==============================] - 7s 29ms/step - loss: 1.0731\n",
            "250/250 [==============================] - 7s 29ms/step - loss: 1.1262\n",
            "138/138 [==============================] - 4s 30ms/step - loss: 1.0363\n",
            "Training in epoch 2...\n",
            "250/250 [==============================] - 7s 29ms/step - loss: 1.0341\n",
            "250/250 [==============================] - 7s 29ms/step - loss: 1.0385\n",
            "250/250 [==============================] - 7s 29ms/step - loss: 1.0422\n",
            "250/250 [==============================] - 7s 29ms/step - loss: 0.9878\n",
            "250/250 [==============================] - 7s 29ms/step - loss: 1.0061\n",
            "250/250 [==============================] - 7s 29ms/step - loss: 1.0365\n",
            "250/250 [==============================] - 7s 29ms/step - loss: 0.9745\n",
            "250/250 [==============================] - 7s 29ms/step - loss: 1.0450\n",
            "250/250 [==============================] - 8s 32ms/step - loss: 1.0235\n",
            "250/250 [==============================] - 7s 29ms/step - loss: 1.0074\n",
            "250/250 [==============================] - 7s 29ms/step - loss: 0.9821\n",
            "250/250 [==============================] - 7s 29ms/step - loss: 0.9572\n",
            "250/250 [==============================] - 7s 29ms/step - loss: 0.9849\n",
            "250/250 [==============================] - 7s 29ms/step - loss: 0.9612\n",
            "250/250 [==============================] - 7s 29ms/step - loss: 0.9620\n",
            "250/250 [==============================] - 7s 29ms/step - loss: 1.0022\n",
            "250/250 [==============================] - 7s 29ms/step - loss: 0.9853\n",
            "250/250 [==============================] - 7s 29ms/step - loss: 0.9443\n",
            "250/250 [==============================] - 7s 29ms/step - loss: 0.9960\n",
            "250/250 [==============================] - 7s 29ms/step - loss: 0.9594\n",
            "250/250 [==============================] - 7s 29ms/step - loss: 1.0048\n",
            "138/138 [==============================] - 4s 29ms/step - loss: 0.9245\n"
          ]
        }
      ]
    },
    {
      "cell_type": "code",
      "metadata": {
        "id": "2cBBkWaeVfTq"
      },
      "source": [
        "s2s_model.save(filepath='/content/drive/MyDrive/Saswat/model.h5')"
      ],
      "execution_count": null,
      "outputs": []
    },
    {
      "cell_type": "code",
      "metadata": {
        "id": "vd4DkUbUhzYk"
      },
      "source": [
        "# If want to train more\n",
        "s2s_model = keras.models.load_model('/content/drive/MyDrive/Saswat/model.h5')"
      ],
      "execution_count": null,
      "outputs": []
    },
    {
      "cell_type": "code",
      "metadata": {
        "id": "aNTcN_KbiW5Q",
        "colab": {
          "base_uri": "https://localhost:8080/"
        },
        "outputId": "4f42ceb3-d4e3-484f-da70-920a9b646ad5"
      },
      "source": [
        "training_time_limit = 360 * 600  # seconds (notebooks terminate after 10 hour)\n",
        "start_time = time.time()\n",
        "stop_after = start_time + training_time_limit\n",
        "\n",
        "class TimesUpInterrupt(Exception):\n",
        "    pass\n",
        "\n",
        "try:\n",
        "    for epoch in range(7):\n",
        "        print(f'Training in epoch {epoch}...')\n",
        "\n",
        "            \n",
        "        for start_idx in range(0, len(train_x), SUB_BATCH_SIZE):\n",
        "            train_mini_epoch(s2s_model, start_idx, start_idx + SUB_BATCH_SIZE, epoch)\n",
        "            if time.time() > stop_after:\n",
        "                raise TimesUpInterrupt\n",
        "except KeyboardInterrupt:\n",
        "    print(\"Halting training from keyboard interrupt.\")\n",
        "except TimesUpInterrupt:\n",
        "    print(f\"Halting after {time.time() - start_time} seconds spent training.\")"
      ],
      "execution_count": null,
      "outputs": [
        {
          "output_type": "stream",
          "name": "stdout",
          "text": [
            "Training in epoch 0...\n",
            "250/250 [==============================] - 22s 77ms/step - loss: 1.0071\n",
            "250/250 [==============================] - 21s 83ms/step - loss: 0.9996\n",
            "250/250 [==============================] - 20s 80ms/step - loss: 1.0293\n",
            "250/250 [==============================] - 19s 76ms/step - loss: 0.9818\n",
            "250/250 [==============================] - 20s 80ms/step - loss: 0.9508\n",
            "250/250 [==============================] - 20s 80ms/step - loss: 0.9543\n",
            "250/250 [==============================] - 20s 78ms/step - loss: 0.9568\n",
            "250/250 [==============================] - 19s 77ms/step - loss: 1.0059\n",
            "250/250 [==============================] - 20s 80ms/step - loss: 0.9681\n",
            "250/250 [==============================] - 20s 79ms/step - loss: 0.9912\n",
            "250/250 [==============================] - 20s 80ms/step - loss: 0.9468\n",
            "250/250 [==============================] - 19s 77ms/step - loss: 0.9343\n",
            "250/250 [==============================] - 20s 78ms/step - loss: 0.9622\n",
            "250/250 [==============================] - 20s 80ms/step - loss: 0.9813\n",
            "250/250 [==============================] - 20s 79ms/step - loss: 0.9513\n",
            "250/250 [==============================] - 19s 78ms/step - loss: 0.9564\n",
            "250/250 [==============================] - 20s 80ms/step - loss: 0.9395\n",
            "250/250 [==============================] - 21s 82ms/step - loss: 0.9544\n",
            "250/250 [==============================] - 20s 80ms/step - loss: 0.9566\n",
            "250/250 [==============================] - 20s 80ms/step - loss: 0.9383\n",
            "250/250 [==============================] - 20s 79ms/step - loss: 0.9449\n",
            "138/138 [==============================] - 11s 77ms/step - loss: 0.9240\n",
            "Training in epoch 1...\n",
            "250/250 [==============================] - 20s 79ms/step - loss: 0.8904\n",
            "250/250 [==============================] - 20s 79ms/step - loss: 0.8878\n",
            "250/250 [==============================] - 19s 78ms/step - loss: 0.9140\n",
            "250/250 [==============================] - 19s 77ms/step - loss: 0.8776\n",
            "250/250 [==============================] - 21s 84ms/step - loss: 0.8573\n",
            "250/250 [==============================] - 21s 82ms/step - loss: 0.8631\n",
            "250/250 [==============================] - 20s 81ms/step - loss: 0.8692\n",
            "250/250 [==============================] - 20s 80ms/step - loss: 0.9131\n",
            "250/250 [==============================] - 20s 80ms/step - loss: 0.8872\n",
            "250/250 [==============================] - 20s 80ms/step - loss: 0.8897\n",
            "250/250 [==============================] - 20s 80ms/step - loss: 0.8649\n",
            "250/250 [==============================] - 20s 81ms/step - loss: 0.8520\n",
            "250/250 [==============================] - 20s 79ms/step - loss: 0.8785\n",
            "250/250 [==============================] - 20s 78ms/step - loss: 0.8987\n",
            "250/250 [==============================] - 21s 82ms/step - loss: 0.8738\n",
            "250/250 [==============================] - 20s 79ms/step - loss: 0.8773\n",
            "250/250 [==============================] - 20s 80ms/step - loss: 0.8640\n",
            "250/250 [==============================] - 20s 78ms/step - loss: 0.8748\n",
            "250/250 [==============================] - 20s 79ms/step - loss: 0.8759\n",
            "250/250 [==============================] - 20s 81ms/step - loss: 0.8692\n",
            "250/250 [==============================] - 20s 81ms/step - loss: 0.8702\n",
            "138/138 [==============================] - 11s 79ms/step - loss: 0.8589\n",
            "Training in epoch 2...\n",
            "250/250 [==============================] - 20s 81ms/step - loss: 0.8410\n",
            "250/250 [==============================] - 20s 79ms/step - loss: 0.8353\n",
            "250/250 [==============================] - 19s 77ms/step - loss: 0.8611\n",
            "250/250 [==============================] - 19s 77ms/step - loss: 0.8281\n",
            "250/250 [==============================] - 20s 80ms/step - loss: 0.8013\n",
            "250/250 [==============================] - 20s 81ms/step - loss: 0.8051\n",
            "250/250 [==============================] - 20s 81ms/step - loss: 0.8074\n",
            "250/250 [==============================] - 21s 82ms/step - loss: 0.8553\n",
            "250/250 [==============================] - 20s 79ms/step - loss: 0.8297\n",
            "250/250 [==============================] - 20s 78ms/step - loss: 0.8363\n",
            "250/250 [==============================] - 22s 87ms/step - loss: 0.8104\n",
            "250/250 [==============================] - 20s 81ms/step - loss: 0.7950\n",
            "250/250 [==============================] - 20s 81ms/step - loss: 0.8215\n",
            "250/250 [==============================] - 20s 78ms/step - loss: 0.8357\n",
            "250/250 [==============================] - 19s 77ms/step - loss: 0.8165\n",
            "250/250 [==============================] - 20s 79ms/step - loss: 0.8205\n",
            "250/250 [==============================] - 20s 80ms/step - loss: 0.8029\n",
            "250/250 [==============================] - 20s 80ms/step - loss: 0.8211\n",
            "250/250 [==============================] - 20s 79ms/step - loss: 0.8240\n",
            "250/250 [==============================] - 20s 78ms/step - loss: 0.8148\n",
            "250/250 [==============================] - 20s 79ms/step - loss: 0.8174\n",
            "138/138 [==============================] - 11s 76ms/step - loss: 0.8073\n",
            "Training in epoch 3...\n",
            "250/250 [==============================] - 20s 80ms/step - loss: 0.7996\n",
            "250/250 [==============================] - 20s 81ms/step - loss: 0.7897\n",
            "250/250 [==============================] - 20s 79ms/step - loss: 0.8126\n",
            "250/250 [==============================] - 21s 84ms/step - loss: 0.7840\n",
            "250/250 [==============================] - 19s 77ms/step - loss: 0.7548\n",
            "250/250 [==============================] - 20s 80ms/step - loss: 0.7628\n",
            "250/250 [==============================] - 21s 82ms/step - loss: 0.7646\n",
            "250/250 [==============================] - 20s 78ms/step - loss: 0.8079\n",
            "250/250 [==============================] - 20s 80ms/step - loss: 0.7815\n",
            "250/250 [==============================] - 20s 80ms/step - loss: 0.7879\n",
            "250/250 [==============================] - 20s 80ms/step - loss: 0.7708\n",
            "250/250 [==============================] - 20s 79ms/step - loss: 0.7560\n",
            "250/250 [==============================] - 20s 80ms/step - loss: 0.7781\n",
            "250/250 [==============================] - 20s 80ms/step - loss: 0.7897\n",
            "250/250 [==============================] - 20s 78ms/step - loss: 0.7757\n",
            "250/250 [==============================] - 20s 79ms/step - loss: 0.7738\n",
            "250/250 [==============================] - 20s 80ms/step - loss: 0.7633\n",
            "250/250 [==============================] - 20s 81ms/step - loss: 0.7744\n",
            "250/250 [==============================] - 21s 85ms/step - loss: 0.7755\n",
            "250/250 [==============================] - 20s 79ms/step - loss: 0.7748\n",
            "250/250 [==============================] - 20s 82ms/step - loss: 0.7759\n",
            "138/138 [==============================] - 11s 79ms/step - loss: 0.7637\n",
            "Training in epoch 4...\n",
            "250/250 [==============================] - 20s 80ms/step - loss: 0.7603\n",
            "250/250 [==============================] - 20s 82ms/step - loss: 0.7525\n",
            "250/250 [==============================] - 21s 83ms/step - loss: 0.7801\n",
            "250/250 [==============================] - 20s 78ms/step - loss: 0.7466\n",
            "250/250 [==============================] - 19s 77ms/step - loss: 0.7239\n",
            "250/250 [==============================] - 20s 81ms/step - loss: 0.7269\n",
            "250/250 [==============================] - 19s 77ms/step - loss: 0.7241\n",
            "250/250 [==============================] - 19s 77ms/step - loss: 0.7671\n",
            "250/250 [==============================] - 21s 84ms/step - loss: 0.7486\n",
            "250/250 [==============================] - 20s 80ms/step - loss: 0.7495\n",
            "250/250 [==============================] - 20s 80ms/step - loss: 0.7306\n",
            "250/250 [==============================] - 22s 86ms/step - loss: 0.7144\n",
            "250/250 [==============================] - 20s 79ms/step - loss: 0.7391\n",
            "250/250 [==============================] - 20s 78ms/step - loss: 0.7513\n",
            "250/250 [==============================] - 21s 82ms/step - loss: 0.7393\n",
            "250/250 [==============================] - 20s 79ms/step - loss: 0.7366\n",
            "250/250 [==============================] - 20s 79ms/step - loss: 0.7212\n",
            "250/250 [==============================] - 20s 80ms/step - loss: 0.7336\n",
            "250/250 [==============================] - 21s 82ms/step - loss: 0.7363\n",
            "250/250 [==============================] - 20s 79ms/step - loss: 0.7412\n",
            "250/250 [==============================] - 20s 80ms/step - loss: 0.7399\n",
            "138/138 [==============================] - 11s 78ms/step - loss: 0.7280\n",
            "Training in epoch 5...\n",
            "250/250 [==============================] - 20s 80ms/step - loss: 0.7242\n",
            "250/250 [==============================] - 19s 77ms/step - loss: 0.7163\n",
            "250/250 [==============================] - 20s 81ms/step - loss: 0.7440\n",
            "250/250 [==============================] - 20s 78ms/step - loss: 0.7144\n",
            "250/250 [==============================] - 20s 79ms/step - loss: 0.6940\n",
            "250/250 [==============================] - 20s 81ms/step - loss: 0.6985\n",
            "250/250 [==============================] - 19s 75ms/step - loss: 0.6957\n",
            "250/250 [==============================] - 20s 80ms/step - loss: 0.7328\n",
            "250/250 [==============================] - 20s 80ms/step - loss: 0.7134\n",
            "250/250 [==============================] - 20s 81ms/step - loss: 0.7161\n",
            "250/250 [==============================] - 20s 81ms/step - loss: 0.6993\n",
            "250/250 [==============================] - 20s 81ms/step - loss: 0.6905\n",
            "250/250 [==============================] - 21s 85ms/step - loss: 0.7058\n",
            "250/250 [==============================] - 20s 81ms/step - loss: 0.7189\n",
            "250/250 [==============================] - 20s 81ms/step - loss: 0.7075\n",
            "250/250 [==============================] - 20s 80ms/step - loss: 0.7051\n",
            "250/250 [==============================] - 20s 80ms/step - loss: 0.6958\n",
            "250/250 [==============================] - 20s 79ms/step - loss: 0.7025\n",
            "250/250 [==============================] - 20s 80ms/step - loss: 0.7028\n",
            "250/250 [==============================] - 20s 79ms/step - loss: 0.7085\n",
            "250/250 [==============================] - 20s 79ms/step - loss: 0.7093\n",
            "138/138 [==============================] - 11s 81ms/step - loss: 0.6968\n",
            "Training in epoch 6...\n",
            "250/250 [==============================] - 20s 80ms/step - loss: 0.6985\n",
            "250/250 [==============================] - 21s 83ms/step - loss: 0.6939\n",
            "250/250 [==============================] - 19s 77ms/step - loss: 0.7133\n",
            "250/250 [==============================] - 20s 79ms/step - loss: 0.6875\n",
            "250/250 [==============================] - 20s 81ms/step - loss: 0.6714\n",
            "250/250 [==============================] - 22s 86ms/step - loss: 0.6712\n",
            "250/250 [==============================] - 20s 79ms/step - loss: 0.6693\n",
            "250/250 [==============================] - 20s 79ms/step - loss: 0.7034\n",
            "250/250 [==============================] - 20s 80ms/step - loss: 0.6797\n",
            "250/250 [==============================] - 21s 83ms/step - loss: 0.6859\n",
            "250/250 [==============================] - 20s 81ms/step - loss: 0.6720\n",
            "250/250 [==============================] - 21s 82ms/step - loss: 0.6591\n",
            "250/250 [==============================] - 20s 81ms/step - loss: 0.6807\n",
            "250/250 [==============================] - 20s 81ms/step - loss: 0.6893\n",
            "250/250 [==============================] - 21s 82ms/step - loss: 0.6728\n",
            "250/250 [==============================] - 21s 82ms/step - loss: 0.6777\n",
            "250/250 [==============================] - 20s 80ms/step - loss: 0.6652\n",
            "250/250 [==============================] - 20s 80ms/step - loss: 0.6731\n",
            "250/250 [==============================] - 21s 82ms/step - loss: 0.6715\n",
            "250/250 [==============================] - 20s 80ms/step - loss: 0.6804\n",
            "250/250 [==============================] - 20s 79ms/step - loss: 0.6752\n",
            "138/138 [==============================] - 11s 80ms/step - loss: 0.6697\n"
          ]
        }
      ]
    },
    {
      "cell_type": "code",
      "metadata": {
        "id": "gydxvCMAibK8"
      },
      "source": [
        "s2s_model.save(filepath='/content/drive/MyDrive/Saswat/model.h5')\n",
        "# Model trained for n more epochs "
      ],
      "execution_count": null,
      "outputs": []
    },
    {
      "cell_type": "code",
      "metadata": {
        "id": "5vk2w9-kX3ON"
      },
      "source": [
        "w = keras.models.load_model('/content/drive/MyDrive/Saswat/model.h5')"
      ],
      "execution_count": null,
      "outputs": []
    },
    {
      "cell_type": "code",
      "metadata": {
        "id": "Uzmhw_EMbE-_"
      },
      "source": [
        "test = list(inbounds_and_outbounds.head(150)['text_x'].values)[100:]"
      ],
      "execution_count": null,
      "outputs": []
    },
    {
      "cell_type": "code",
      "metadata": {
        "colab": {
          "base_uri": "https://localhost:8080/"
        },
        "id": "-hL86DW9bIMg",
        "outputId": "95e4ea6d-68cd-4953-bb97-13b2f77970a1"
      },
      "source": [
        "for i in test:\n",
        "    print(f'Query: {i}')\n",
        "    print(f'Response: {respond_to(w, i)}')"
      ],
      "execution_count": null,
      "outputs": [
        {
          "output_type": "stream",
          "name": "stdout",
          "text": [
            "Query: @SpotifyCares hello! when is support coming for the iPhone X? your app isn’t looking very pretty ☹️ https://t.co/dfuO9PzFZF\n",
            "Response: @__sn__ hey there ! we ’ d love to have all of their stuff available , but we have some info about content here : https://t.co/0i8gpimuda / ar\n",
            "Query: @115888 when will you extent yourself to South Africa Please 😩😩🙏🏽🙏🏽🇿🇦\n",
            "Response: @__sn__ hey ! we're launching in new countries as often as possible . be sure to add your email at https://t.co/x8dvsx9qgm / cx\n",
            "Query: Hi @SpotifyCares, I want to change the date that money leaves my account for premium, is this possible or do I have to cancel and renew again??\n",
            "Response: @__sn__ hey there ! can you dm us your account's email address ? we'll take a look backstage / rb https://t.co/ldfdzrinat\n",
            "Query: @SpotifyCares redeem code for premium family not working. Have cancelled and resent but still says code does not seem to be valid when redeeming. How can I fix this??\n",
            "Response: @__sn__ hey there ! can you dm us your account's email address ? we'll take a look backstage / rb https://t.co/ldfdzrinat\n",
            "Query: Hey @116380, can you access previous weekly discover lists. I didn’t save it last week but it was perfection?? #spotify @115888\n",
            "Response: @__sn__ hey there ! we ’ d love to have all of their stuff available , but we have some info about content here : https://t.co/0i8gpimuda / ar\n",
            "Query: @115888 \"Discover\" is only going to be playlists?  Bad news. I want my album recs.\n",
            "Response: @__sn__ hey there ! we ’ ve recently made some improvements to our shuffle algorithm . we ’ d love to hear your feedback here : https://t.co/t3vznsl3od / ar\n",
            "Query: Why am I still paying for @115888 I thought i cancelled 😥😥😣\n",
            "Response: @__sn__ hey there ! can you dm us your account's email address ? we'll take a look backstage / rb https://t.co/ldfdzrinat\n",
            "Query: @115888 how do I just get a list of songs from an artist? Not bothered about “popular”...\n",
            "Response: @__sn__ hey there ! we ’ ve recently made some improvements to our shuffle algorithm . we ’ d love to hear your feedback here : https://t.co/t3vznsl3od / ar\n",
            "Query: Why Can i not invite My sister to the family Spotify premium? It just says that she is unable to Join the family plan? @SpotifyCares\n",
            "Response: @__sn__ hey there ! can you dm us your account's email address ? we'll take a look backstage / rb https://t.co/ldfdzrinat\n",
            "Query: @115888 won't let me renew my subscription wtf\n",
            "Response: @__sn__ hey there ! can you dm us your account's email address ? we'll take a look / rb https://t.co/ldfdzrinat\n",
            "Query: @SpotifyCares please ask fnc entertainment to upload sf9’s new album on spotify thank you!!!\n",
            "Response: @__sn__ hey there ! we ’ d love to have all of their stuff available , but we have some info about content here : https://t.co/0i8gpimuda / ar\n",
            "Query: @115888 i moved... and now???? https://t.co/cRn6SnXHQS\n",
            "Response: @__sn__ hey there ! can you dm us your account's email address ? we'll take a look / rb https://t.co/ldfdzrinat\n",
            "Query: @115888 Can we get a “Send Song” feature so we can send music to our friends - turn Spotify a little more social 🤜🏾🤛🏿 appreciate you\n",
            "Response: @__sn__ hey there ! we ’ d love to have all of their stuff available , but we have some info about content here : https://t.co/0i8gpimuda / ar\n",
            "Query: @410993 can you please add more Unreleased &amp; released Steve Burns music please!.?\n",
            "Response: @__sn__ hey there ! we ’ d love to have all of their stuff available , but we have some info about content here : https://t.co/0i8gpimuda / ar\n",
            "Query: Dude... change it to your 3 months for 99 cents deal. That's literally the best deal of existence @SpotifyCares @115888 https://t.co/hb2Qmj7qwx\n",
            "Response: @__sn__ hey there ! can you let us know the device , operating system , and spotify version you're using ? we'll see what we can suggest / ns\n",
            "Query: Hey when will #reputation be  on @115888 ? Do you have the exact date?\n",
            "Response: @__sn__ hey ! taylor swift's ' reputation ' isn't available to stream just yet – stay tuned . for now , check out the singles : https://t.co/3h0tnpwp0c / au\n",
            "Query: Dear @115888, can we please just put EPs under \"albums?\" It'd be so much easier to find them. Especially on mobile.\n",
            "Response: @__sn__ hey there ! we ’ d love to have all of their stuff available , but we have some info about content here : https://t.co/0i8gpimuda / ar\n",
            "Query: Why is @115888 not available in the UAE? @39782 @36393\n",
            "Response: @__sn__ hey ! we're launching in new countries as often as possible . be sure to add your email at https://t.co/x8dvsx9qgm / cx\n",
            "Query: @115888 Trying to change payment info, being told CSRF token invalid, don't know what that means, can't contact an actual person. Wtf?\n",
            "Response: @__sn__ hey there ! can you dm us your account's email address ? we'll take a look backstage / rb https://t.co/ldfdzrinat\n",
            "Query: @SpotifyCares Your app isn't launching for iOS 10.3.3, iPhone 6S,  @115888 version 8.4.25 😭😭😭\n",
            "Response: @__sn__ hey there ! can you let us know the device , operating system , and spotify version you're using ? we'll see what we can suggest / lo\n",
            "Query: @SpotifyCares why does my Spotify stop playing while offline? It is songs I've downloaded and haven't had the issue until yesterday.\n",
            "Response: @__sn__ hey there ! can you dm us your account's email address ? we'll take a look / rb https://t.co/ldfdzrinat\n",
            "Query: @SpotifyCares why put Felices Los 4 on your Latino Pride list, its not representative of LGBT love it's about str8 sex games! offensive!\n",
            "Response: @__sn__ hey there ! we ’ ve recently made some improvements to our shuffle algorithm . we ’ d love to hear your feedback here : https://t.co/t3vznsl3od / ar\n",
            "Query: @SpotifyCares why is New Order's entire catalog unplayable?\n",
            "Response: @__sn__ hey there ! can you let us know the device , operating system , and spotify version you're using ? we'll see what we can suggest / ns\n",
            "Query: @SpotifyCares Hi! Did you really drop Archive - Lights album from your platform?!\n",
            "Response: @__sn__ hey there ! we ’ d love to have all of their stuff available , but we have some info about content here : https://t.co/0i8gpimuda / ar\n",
            "Query: .@115888 has incorrectly added a song under our artist name. @69619 is not affiliated with us in any way.\n",
            "Response: @__sn__ hey there ! we ’ ve recently made some improvements to our shuffle algorithm . we ’ d love to hear your feedback here : https://t.co/t3vznsl3od / ar\n",
            "Query: You know what would be a cool thing for @115888 to allow: the ability to merge playlists.\n",
            "Response: @__sn__ hey there ! we ’ d love to have all of their stuff available , but we have some info about content here : https://t.co/0i8gpimuda / ar\n",
            "Query: Spotify isn’t letting me listen to Move, @115888 get it together before I switch to Apple Music\n",
            "Response: @__sn__ hey there ! can you let us know the device , operating system , and spotify version you're using ? we'll see what we can suggest / lo\n",
            "Query: @115888 help I accidentally thumbs downed a song I like, how do I fix it?? It's not there if I scroll back through my recently played 😭\n",
            "Response: @__sn__ hey there ! can you let us know the device , operating system , and spotify version you're using ? we'll see what we can suggest / lo\n",
            "Query: @115888 how do I cancel from my Android phone.\n",
            "Response: @__sn__ hey there ! can you let us know the device , operating system , and spotify version you're using ? we'll see what we can suggest / ns\n",
            "Query: @SpotifyCares hi - I can't play a lot of the songs. Getting error message. Help?\n",
            "Response: @__sn__ hey there ! can you let us know the device , operating system , and spotify version you're using ? we'll see what we can suggest / lo\n",
            "Query: @SpotifyCares I went to sign up with premium student but then i stopped when it asked for documents but my account has still been charged\n",
            "Response: @__sn__ hey there ! can you dm us your account's email address ? we'll take a look backstage / rb https://t.co/ldfdzrinat\n",
            "Query: @SpotifyCares 2/2 error message: dit nummer is niet beschikbaar. Als het op je computer staat kun je het importeren. - FYI: OK on phone - tx\n",
            "Response: @__sn__ hey there ! we ’ d love to have all of their stuff available , but we have some info about content here : https://t.co/0i8gpimuda / ar\n",
            "Query: Make my day and announce the £0.99 for 3 months offer @115888\n",
            "Response: @__sn__ hey there ! can you dm us your account's email address ? we'll take a look / rb https://t.co/ldfdzrinat\n",
            "Query: @115888 I’ve been charged for both student premium and regular premium since July. I’ve been paying $15 a month? Help me fix this.\n",
            "Response: @__sn__ hey there ! can you dm us your account's email address ? we'll take a look backstage / rb https://t.co/ldfdzrinat\n",
            "Query: @115888 how long are you going to advertise this for??? https://t.co/fxaDPX66v5\n",
            "Response: @__sn__ hey there ! we ’ d love to have all of their stuff available , but we have some info about content here : https://t.co/0i8gpimuda / ar\n",
            "Query: @SpotifyCares dm please! I need you help!\n",
            "Response: @__sn__ hey there ! we've just sent you a dm 🙂 / df\n",
            "Query: @117153 hey someone else has been in my account but i changed the PW so np but i was already premium but not anymore whats going on?\n",
            "Response: @__sn__ hey there ! can you dm us your account's email address ? we'll take a look backstage / rb https://t.co/ldfdzrinat\n",
            "Query: I really hope Spotify comes to the Apple Watch soon @SpotifyCares\n",
            "Response: @__sn__ hey there ! check out the official idea and add your vote to let our devs know it's something you'd like to see : https://t.co/sek4e4gi22 / nq\n",
            "Query: @SpotifyCares why are the songs I listen to not posting on my activity  log on facebook?\n",
            "Response: @__sn__ hey there ! can you let us know the device , operating system , and spotify version you're using ? we'll see what we can suggest / lo\n",
            "Query: @116130 can you hurry up and get 4pm in London on spotify please?\n",
            "Response: @__sn__ hey there ! we ’ d love to have all of their stuff available , but we have some info about content here : https://t.co/0i8gpimuda / ar\n",
            "Query: @115888 I️ need to contact someone about cancelling a membership that was used with my card. I️ have never used Spotify! #GetAContactNumber\n",
            "Response: @__sn__ hey there ! can you dm us your account's email address ? we'll take a look / rb https://t.co/ldfdzrinat\n",
            "Query: \"Go where you are treated best.\"\n",
            "\n",
            "A motto I like to live by.\n",
            "\n",
            "Where am I not treated well? @115888. #AppDeleted @SpotifyCares (but do they really?)\n",
            "Response: @__sn__ hey there ! we ’ d love to have all of their stuff available , but we have some info about content here : https://t.co/0i8gpimuda / gu\n",
            "Query: @115888 please make music lyrics available then streaming via Chromecast!\n",
            "Response: @__sn__ hey there ! we ’ d love to have all of their stuff available , but we have some info about content here : https://t.co/0i8gpimuda / ar\n",
            "Query: @SpotifyCares every time I update your app (Android) it removes all of my downloaded music. then I have to redownload 2000 songs. thank you.\n",
            "Response: @__sn__ hey there ! can you let us know the device , operating system , and spotify version you're using ? we'll see what we can suggest / lo\n",
            "Query: i need reputation on @115888\n",
            "Response: @__sn__ hey ! taylor swift's ' reputation ' isn't available to stream just yet – stay tuned . for now , check out the singles : https://t.co/3h0tnpwp0c / au\n",
            "Query: Hey. @115888 I love my “Running Playlist” but I need a button to hit on the treadmill that lets me add those sweet new toons to a playlist for next run! Please?\n",
            "Response: @__sn__ hey there ! we ’ d love to have all of their stuff available , but we have some info about content here : https://t.co/0i8gpimuda / ar\n",
            "Query: @115888 currently have premium and pay through Rogers but I am leaving Rogers.  How do convert my account and add premium family\n",
            "Response: @__sn__ hey there ! can you dm us your account's email address ? we'll take a look backstage / rb https://t.co/ldfdzrinat\n",
            "Query: It’s been almost 2 weeks. You’re the industry-leading streaming service. I’m joining the party, c’mon @115888 @SpotifyCares #iphonexupdate\n",
            "Response: @__sn__ hey there ! we ’ d love to have all of their stuff available , but we have some info about content here : https://t.co/0i8gpimuda / ar\n",
            "Query: @115888 how do I delete a song off of my playlist??\n",
            "Response: @__sn__ hey there ! can you let us know the device , operating system , and spotify version you're using ? we'll see what we can suggest / ns\n",
            "Query: @SpotifyCares I have a premium account - for whatever reason every Bowie and Springsteen song is showing up as \"song is not available.\" HALP\n",
            "Response: @__sn__ hey there ! can you dm us your account's email address ? we'll take a look / rb https://t.co/ldfdzrinat\n"
          ]
        }
      ]
    },
    {
      "cell_type": "code",
      "metadata": {
        "id": "va7VnecJdYs2"
      },
      "source": [
        "a_list = [\n",
        "    \n",
        "\" check the dms please\",\n",
        "\" can you just add a recorded version of 'Shock the Monkey' by Peter Gabriel?\",\n",
        "\" is there any way that I can block all boogie with a hoodie songs? #protectlilbatallcosts\",\n",
        "\" Client keeps shutting down and relaunching in mac (10.13.1), at about 2 times per second. Seem to write a copy of itself each time (!!!) Tried solution in official support site; it doesn't work... :/\",\n",
        "\" CHECK YA DMSSSSSSS\",\n",
        "\" I was wondering how often do I have to renew my student discount? The last time I renewed it was in July and I have been charged to the full $9.99 montly for the past 3 months including this month so that means I renewed it and it was $4.99 for 1 month.\",\n",
        "\" I loaded mp3s onto my laptop, added to spotify, made playlist. Why cant i download playlist to my phone spotify app?\",\n",
        "\" my iPhone app deleted my entire downloaded library for the 12th time!!! tell them there should be keyboard shortcuts for everything!\",\n",
        "\" sent a DM :/\",\n",
        "\" we have Shania problem!!!! Her alblum, 'Come on over', only have the uts inferior version\",\n",
        "\" what is going on!!!! I got logged out and lost all my songs\",\n",
        "\" When will Spotify be launched in India? ;))) \",\n",
        "\" when will you be supported in israel? ;/\",\n",
        "\" Hey, I would love to be able to hide the “Browse” page, so I see just my music when I open Spotify, not ads for bands I hate and “funny” texts. \",\n",
        "\" Hi is it possible to upload Rivermaya’s old song “You’ll Be Safe Here”?\",\n",
        "\" I don’t understand why my scratches at times \",\n",
        "\" Jadah apa tolak duit tapi still ada iklan 'langkawi' \",\n",
        "\" stop playing and bring back the touch preview option!!! \",\n",
        "\" can we get more Ed Sheeren songs in spotify ???\",\n",
        "\" Why is Motty Steinmetz' music not avalible on Spotify? Get in contact with his team and work to fix that s\"\n",
        "\n",
        "]"
      ],
      "execution_count": null,
      "outputs": []
    },
    {
      "cell_type": "code",
      "metadata": {
        "colab": {
          "base_uri": "https://localhost:8080/"
        },
        "id": "k6eWYKjbdZ1V",
        "outputId": "cb701053-214a-4cea-b094-f3399634328e"
      },
      "source": [
        "for i in a_list:\n",
        "    print(f'Query: {i}')\n",
        "    print(f'Response: {respond_to(w, i)}')\n",
        "    print('\\n')"
      ],
      "execution_count": null,
      "outputs": [
        {
          "output_type": "stream",
          "name": "stdout",
          "text": [
            "Query:  check the dms please\n",
            "Response: @__sn__ hey there ! can you dm us your account's email address ? we'll take a look / rb https://t.co/ldfdzrinat\n",
            "\n",
            "\n",
            "Query:  can you just add a recorded version of 'Shock the Monkey' by Peter Gabriel?\n",
            "Response: @__sn__ hey there ! we ’ d love to have all of their stuff available , but we have some info about content here : https://t.co/0i8gpimuda / ar\n",
            "\n",
            "\n",
            "Query:  is there any way that I can block all boogie with a hoodie songs? #protectlilbatallcosts\n",
            "Response: @__sn__ hey there ! we ’ d love to have all of their stuff available , but we have some info about content here : https://t.co/0i8gpimuda / ar\n",
            "\n",
            "\n",
            "Query:  Client keeps shutting down and relaunching in mac (10.13.1), at about 2 times per second. Seem to write a copy of itself each time (!!!) Tried solution in official support site; it doesn't work... :/\n",
            "Response: @__sn__ hey there ! can you let us know the device , operating system , and spotify version you're using ? we'll see what we can suggest / lo\n",
            "\n",
            "\n",
            "Query:  CHECK YA DMSSSSSSS\n",
            "Response: @__sn__ hey there ! we ’ ve recently made some improvements to our shuffle algorithm . we ’ d love to hear your feedback here : https://t.co/t3vznsl3od / gk\n",
            "\n",
            "\n",
            "Query:  I was wondering how often do I have to renew my student discount? The last time I renewed it was in July and I have been charged to the full $9.99 montly for the past 3 months including this month so that means I renewed it and it was $4.99 for 1 month.\n",
            "Response: @__sn__ hey there ! can you dm us your account's email address ? we'll take a look backstage / rb https://t.co/ldfdzrinat\n",
            "\n",
            "\n",
            "Query:  I loaded mp3s onto my laptop, added to spotify, made playlist. Why cant i download playlist to my phone spotify app?\n",
            "Response: @__sn__ hey there ! can you let us know the device , operating system , and spotify version you're using ? we'll see what we can suggest / ns\n",
            "\n",
            "\n",
            "Query:  my iPhone app deleted my entire downloaded library for the 12th time!!! tell them there should be keyboard shortcuts for everything!\n",
            "Response: @__sn__ hey there ! can you let us know the device , operating system , and spotify version you're using ? we'll see what we can suggest / lo\n",
            "\n",
            "\n",
            "Query:  sent a DM :/\n",
            "Response: @__sn__ hey there ! can you dm us your account's email address ? we'll take a look / rb https://t.co/ldfdzrinat\n",
            "\n",
            "\n",
            "Query:  we have Shania problem!!!! Her alblum, 'Come on over', only have the uts inferior version\n",
            "Response: @__sn__ hey there ! we ’ d love to have all of their stuff available , but we have some info about content here : https://t.co/0i8gpimuda / ar\n",
            "\n",
            "\n",
            "Query:  what is going on!!!! I got logged out and lost all my songs\n",
            "Response: @__sn__ hey there ! can you dm us your account's email address ? we'll take a look / rb https://t.co/ldfdzrinat\n",
            "\n",
            "\n",
            "Query:  When will Spotify be launched in India? ;))) \n",
            "Response: @__sn__ hey ! we're launching in new countries as often as possible . be sure to add your email at https://t.co/x8dvsx9qgm / cx\n",
            "\n",
            "\n",
            "Query:  when will you be supported in israel? ;/\n",
            "Response: @__sn__ hey ! we're launching in new countries as often as possible . be sure to add your email at https://t.co/x8dvsx9qgm / cx\n",
            "\n",
            "\n",
            "Query:  Hey, I would love to be able to hide the “Browse” page, so I see just my music when I open Spotify, not ads for bands I hate and “funny” texts. \n",
            "Response: @__sn__ hey there ! can you let us know the device , operating system , and spotify version you're using ? we'll see what we can suggest / lo\n",
            "\n",
            "\n",
            "Query:  Hi is it possible to upload Rivermaya’s old song “You’ll Be Safe Here”?\n",
            "Response: @__sn__ hey there ! we ’ d love to have all of their stuff available , but we have some info about content here : https://t.co/0i8gpimuda / ar\n",
            "\n",
            "\n",
            "Query:  I don’t understand why my scratches at times \n",
            "Response: @__sn__ hey there ! can you let us know the device , operating system , and spotify version you're using ? we'll see what we can suggest / ns\n",
            "\n",
            "\n",
            "Query:  Jadah apa tolak duit tapi still ada iklan 'langkawi' \n",
            "Response: @__sn__ hey ! we can help out in english via twitter , but we also have indonesian support via email at https://t.co/zgu70tbp8m / nq\n",
            "\n",
            "\n",
            "Query:  stop playing and bring back the touch preview option!!! \n",
            "Response: @__sn__ hey ! we ’ d love to have all of their stuff available , but we have some info about content here : https://t.co/0i8gpimuda / jt\n",
            "\n",
            "\n",
            "Query:  can we get more Ed Sheeren songs in spotify ???\n",
            "Response: @__sn__ hey there ! we ’ d love to have all of their stuff available , but we have some info about content here : https://t.co/0i8gpimuda / ar\n",
            "\n",
            "\n",
            "Query:  Why is Motty Steinmetz' music not avalible on Spotify? Get in contact with his team and work to fix that s\n",
            "Response: @__sn__ hey there ! we ’ d love to have all of their stuff available , but we have some info about content here : https://t.co/0i8gpimuda / ar\n",
            "\n",
            "\n"
          ]
        }
      ]
    },
    {
      "cell_type": "code",
      "metadata": {
        "id": "b3el1NTSps47"
      },
      "source": [
        ""
      ],
      "execution_count": null,
      "outputs": []
    }
  ]
}